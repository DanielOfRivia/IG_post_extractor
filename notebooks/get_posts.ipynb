{
 "cells": [
  {
   "cell_type": "code",
   "execution_count": null,
   "id": "9380fc56",
   "metadata": {},
   "outputs": [],
   "source": [
    "%pip install -r requirements.txt"
   ]
  },
  {
   "cell_type": "code",
   "execution_count": null,
   "id": "bab1f791",
   "metadata": {},
   "outputs": [],
   "source": [
    "from selenium import webdriver\n",
    "from selenium.webdriver.common.by import By\n",
    "import random\n",
    "import time"
   ]
  },
  {
   "cell_type": "code",
   "execution_count": null,
   "id": "3b2a7f82",
   "metadata": {},
   "outputs": [],
   "source": [
    "with open(\"session1.txt\", \"r\") as f:\n",
    "    for line in f:\n",
    "        if \"sessionid=\" in line:\n",
    "            SESSIONID = line.strip().split(\"=\", 1)[1]\n",
    "        elif \"link_to_folder=\" in line:\n",
    "            LINK_TO_SAVED_FOLDER = line.strip().split(\"=\", 1)[1]\n",
    "\n",
    "if not SESSIONID: \n",
    "    print(\"sessionid is not found in the session1.txt\")\n",
    "    \n",
    "if not LINK_TO_SAVED_FOLDER: \n",
    "    print(\"link_to_folder is not found in the session1.txt\")\n"
   ]
  },
  {
   "cell_type": "code",
   "execution_count": null,
   "id": "dc1a0826",
   "metadata": {},
   "outputs": [],
   "source": [
    "# Start browser\n",
    "driver = webdriver.Chrome()\n",
    "driver.get(\"https://www.instagram.com/\")\n",
    "\n",
    "# Set session cookie\n",
    "driver.add_cookie({\n",
    "    \"name\": \"sessionid\",\n",
    "    \"value\": SESSIONID,\n",
    "    \"domain\": \".instagram.com\",\n",
    "    \"path\": \"/\"\n",
    "})\n",
    "\n",
    "# Navigate to saved posts\n",
    "driver.get(LINK_TO_SAVED_FOLDER)\n",
    "\n",
    "time.sleep(5)  # wait for possible redirect\n",
    "\n",
    "if \"/accounts/login/\" in driver.current_url:\n",
    "    print(\"Login failed: Invalid or expired session_id.\")\n",
    "    driver.quit()\n",
    "else:\n",
    "    print(\"Logged in successfully.\")\n",
    "    MAX_SCROLL_TRIES = 5  # How many times to retry scrolling when no new posts are loaded\n",
    "\n",
    "    post_links = set()\n",
    "    scroll_tries = 0\n",
    "\n",
    "    last_height = driver.execute_script(\"return document.body.scrollHeight\")\n",
    "\n",
    "    while scroll_tries < MAX_SCROLL_TRIES:\n",
    "        # collect current links\n",
    "        posts = driver.find_elements(By.TAG_NAME, \"a\")\n",
    "        for elem in posts: \n",
    "            href = elem.get_attribute(\"href\")\n",
    "            if href and \"/p/\" in href:\n",
    "                post_links.add(href)\n",
    "        \n",
    "        #scroll to the bottom\n",
    "        driver.execute_script(\"window.scrollTo(0, document.body.scrollHeight);\")\n",
    "        \n",
    "        #add random stops to let content load and to avoid ban\n",
    "        time.sleep(random.randint(3,7))\n",
    "\n",
    "        # Check if new content was loaded\n",
    "        new_height = driver.execute_script(\"return document.body.scrollHeight\")\n",
    "\n",
    "        if new_height == last_height:\n",
    "            scroll_tries += 1\n",
    "        else:\n",
    "            scroll_tries = 0  # Reset if content was loaded\n",
    "\n",
    "        last_height = new_height\n",
    "\n",
    "    print(f\"{len(post_links)} posts found\")\n",
    "    #save in a file\n",
    "    with open(\"insta_links.txt\", \"w\") as f:\n",
    "        for link in post_links:\n",
    "            f.write(link + \"\\n\")\n",
    "\n",
    "    driver.quit()"
   ]
  }
 ],
 "metadata": {
  "kernelspec": {
   "display_name": "Python 3",
   "language": "python",
   "name": "python3"
  },
  "language_info": {
   "codemirror_mode": {
    "name": "ipython",
    "version": 3
   },
   "file_extension": ".py",
   "mimetype": "text/x-python",
   "name": "python",
   "nbconvert_exporter": "python",
   "pygments_lexer": "ipython3",
   "version": "3.12.2"
  }
 },
 "nbformat": 4,
 "nbformat_minor": 5
}
