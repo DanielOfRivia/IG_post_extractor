{
 "cells": [
  {
   "cell_type": "code",
   "execution_count": null,
   "id": "e1260cd8",
   "metadata": {},
   "outputs": [],
   "source": [
    "%pip install -r requirements.txt"
   ]
  },
  {
   "cell_type": "code",
   "execution_count": 7,
   "id": "82a3bf64",
   "metadata": {},
   "outputs": [],
   "source": [
    "from selenium import webdriver\n",
    "from selenium.webdriver.common.by import By\n",
    "from selenium.webdriver.common.keys import Keys\n",
    "import random\n",
    "import time\n",
    "import requests\n",
    "import os\n",
    "import instaloader\n",
    "import pathlib"
   ]
  },
  {
   "cell_type": "code",
   "execution_count": null,
   "id": "ed7f7e6d",
   "metadata": {},
   "outputs": [],
   "source": [
    "with open(\"session2.txt\", \"r\") as f:\n",
    "    for line in f:\n",
    "        if \"sessionid=\" in line:\n",
    "            SESSIONID = line.strip().split(\"=\", 1)[1]\n",
    "        elif \"username=\" in line:\n",
    "            PROFILE_USERNAME = line.strip().split(\"=\", 1)[1]\n",
    "\n",
    "if not SESSIONID: \n",
    "    print(\"sessionid is not found in the session1.txt\")\n",
    "    \n",
    "if not PROFILE_USERNAME: \n",
    "    print(\"Username can't be extracted please make sure that link to the saved folder is correct. It should have this structure: https://www.instagram.com/<username>/saved/<folder-name>/<folder-id>/\")\n",
    "\n",
    "L = instaloader.Instaloader()\n",
    "\n",
    "L.context._session.cookies.set(\"sessionid\", SESSIONID, domain=\".instagram.com\")\n",
    "try:\n",
    "    profile = instaloader.Profile.from_username(L.context, PROFILE_USERNAME)\n",
    "    print(\"✅ Logged in as:\", profile.username)\n",
    "except Exception as e:\n",
    "    print(\"❌ Login failed:\", e)"
   ]
  },
  {
   "cell_type": "code",
   "execution_count": null,
   "id": "a1d7856e",
   "metadata": {},
   "outputs": [],
   "source": [
    "with open(\"insta_links.txt\", \"r\") as f:\n",
    "    loaded_links = [line.strip() for line in f if line.strip()]\n",
    "\n",
    "i = 1\n",
    "\n",
    "for post_url in loaded_links:\n",
    "    shortcode = post_url.strip(\"/\").split(\"/\")[-1]\n",
    "\n",
    "    post = instaloader.Post.from_shortcode(L.context, shortcode)\n",
    "\n",
    "    target_path = os.path.join(os.pardir, \"data\", shortcode)\n",
    "    L.download_post(post, target=pathlib.Path(target_path))\n",
    "    print(f\"Downloaded {i}/{len(loaded_links)}\")\n",
    "    i += 1"
   ]
  }
 ],
 "metadata": {
  "kernelspec": {
   "display_name": "Python 3",
   "language": "python",
   "name": "python3"
  },
  "language_info": {
   "codemirror_mode": {
    "name": "ipython",
    "version": 3
   },
   "file_extension": ".py",
   "mimetype": "text/x-python",
   "name": "python",
   "nbconvert_exporter": "python",
   "pygments_lexer": "ipython3",
   "version": "3.12.2"
  }
 },
 "nbformat": 4,
 "nbformat_minor": 5
}
