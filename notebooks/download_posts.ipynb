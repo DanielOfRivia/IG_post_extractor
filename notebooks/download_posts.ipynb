{
 "cells": [
  {
   "cell_type": "code",
   "execution_count": 1,
   "id": "e1260cd8",
   "metadata": {},
   "outputs": [
    {
     "name": "stdout",
     "output_type": "stream",
     "text": [
      "Requirement already satisfied: asttokens==2.4.1 in c:\\users\\danyl\\appdata\\roaming\\python\\python312\\site-packages (from -r requirements.txt (line 1)) (2.4.1)\n",
      "Requirement already satisfied: attrs==25.3.0 in c:\\python312\\lib\\site-packages (from -r requirements.txt (line 2)) (25.3.0)\n",
      "Requirement already satisfied: certifi==2025.1.31 in c:\\python312\\lib\\site-packages (from -r requirements.txt (line 3)) (2025.1.31)\n",
      "Requirement already satisfied: cffi==1.17.1 in c:\\python312\\lib\\site-packages (from -r requirements.txt (line 4)) (1.17.1)\n",
      "Requirement already satisfied: charset-normalizer==3.4.1 in c:\\python312\\lib\\site-packages (from -r requirements.txt (line 5)) (3.4.1)\n",
      "Requirement already satisfied: colorama==0.4.6 in c:\\users\\danyl\\appdata\\roaming\\python\\python312\\site-packages (from -r requirements.txt (line 6)) (0.4.6)\n",
      "Requirement already satisfied: comm==0.2.1 in c:\\users\\danyl\\appdata\\roaming\\python\\python312\\site-packages (from -r requirements.txt (line 7)) (0.2.1)\n",
      "Requirement already satisfied: debugpy==1.8.1 in c:\\users\\danyl\\appdata\\roaming\\python\\python312\\site-packages (from -r requirements.txt (line 8)) (1.8.1)\n",
      "Requirement already satisfied: decorator==5.1.1 in c:\\users\\danyl\\appdata\\roaming\\python\\python312\\site-packages (from -r requirements.txt (line 9)) (5.1.1)\n",
      "Requirement already satisfied: executing==2.0.1 in c:\\users\\danyl\\appdata\\roaming\\python\\python312\\site-packages (from -r requirements.txt (line 10)) (2.0.1)\n",
      "Requirement already satisfied: ffmpeg==1.4 in c:\\python312\\lib\\site-packages (from -r requirements.txt (line 11)) (1.4)\n",
      "Requirement already satisfied: h11==0.14.0 in c:\\python312\\lib\\site-packages (from -r requirements.txt (line 12)) (0.14.0)\n",
      "Requirement already satisfied: idna==3.10 in c:\\python312\\lib\\site-packages (from -r requirements.txt (line 13)) (3.10)\n",
      "Requirement already satisfied: instaloader==4.14.1 in c:\\python312\\lib\\site-packages (from -r requirements.txt (line 14)) (4.14.1)\n",
      "Requirement already satisfied: ipykernel==6.29.3 in c:\\users\\danyl\\appdata\\roaming\\python\\python312\\site-packages (from -r requirements.txt (line 15)) (6.29.3)\n",
      "Requirement already satisfied: ipython==8.22.1 in c:\\users\\danyl\\appdata\\roaming\\python\\python312\\site-packages (from -r requirements.txt (line 16)) (8.22.1)\n",
      "Requirement already satisfied: jedi==0.19.1 in c:\\users\\danyl\\appdata\\roaming\\python\\python312\\site-packages (from -r requirements.txt (line 17)) (0.19.1)\n",
      "Requirement already satisfied: jupyter_client==8.6.0 in c:\\users\\danyl\\appdata\\roaming\\python\\python312\\site-packages (from -r requirements.txt (line 18)) (8.6.0)\n",
      "Requirement already satisfied: jupyter_core==5.7.1 in c:\\users\\danyl\\appdata\\roaming\\python\\python312\\site-packages (from -r requirements.txt (line 19)) (5.7.1)\n",
      "Requirement already satisfied: matplotlib-inline==0.1.6 in c:\\users\\danyl\\appdata\\roaming\\python\\python312\\site-packages (from -r requirements.txt (line 20)) (0.1.6)\n",
      "Requirement already satisfied: nest-asyncio==1.6.0 in c:\\users\\danyl\\appdata\\roaming\\python\\python312\\site-packages (from -r requirements.txt (line 21)) (1.6.0)\n",
      "Requirement already satisfied: outcome==1.3.0.post0 in c:\\python312\\lib\\site-packages (from -r requirements.txt (line 22)) (1.3.0.post0)\n",
      "Requirement already satisfied: packaging==23.2 in c:\\users\\danyl\\appdata\\roaming\\python\\python312\\site-packages (from -r requirements.txt (line 23)) (23.2)\n",
      "Requirement already satisfied: parso==0.8.3 in c:\\users\\danyl\\appdata\\roaming\\python\\python312\\site-packages (from -r requirements.txt (line 24)) (0.8.3)\n",
      "Requirement already satisfied: platformdirs==4.2.0 in c:\\users\\danyl\\appdata\\roaming\\python\\python312\\site-packages (from -r requirements.txt (line 25)) (4.2.0)\n",
      "Requirement already satisfied: prompt-toolkit==3.0.43 in c:\\users\\danyl\\appdata\\roaming\\python\\python312\\site-packages (from -r requirements.txt (line 26)) (3.0.43)\n",
      "Requirement already satisfied: psutil==5.9.8 in c:\\users\\danyl\\appdata\\roaming\\python\\python312\\site-packages (from -r requirements.txt (line 27)) (5.9.8)\n",
      "Requirement already satisfied: pure-eval==0.2.2 in c:\\users\\danyl\\appdata\\roaming\\python\\python312\\site-packages (from -r requirements.txt (line 28)) (0.2.2)\n",
      "Requirement already satisfied: pyaes==1.6.1 in c:\\python312\\lib\\site-packages (from -r requirements.txt (line 29)) (1.6.1)\n",
      "Requirement already satisfied: pycparser==2.22 in c:\\python312\\lib\\site-packages (from -r requirements.txt (line 30)) (2.22)\n",
      "Requirement already satisfied: pygame==2.5.2 in c:\\python312\\lib\\site-packages (from -r requirements.txt (line 31)) (2.5.2)\n",
      "Requirement already satisfied: Pygments==2.17.2 in c:\\users\\danyl\\appdata\\roaming\\python\\python312\\site-packages (from -r requirements.txt (line 32)) (2.17.2)\n",
      "Requirement already satisfied: PySocks==1.7.1 in c:\\python312\\lib\\site-packages (from -r requirements.txt (line 33)) (1.7.1)\n",
      "Requirement already satisfied: pyswip==0.2.10 in c:\\python312\\lib\\site-packages (from -r requirements.txt (line 34)) (0.2.10)\n",
      "Requirement already satisfied: python-dateutil==2.8.2 in c:\\users\\danyl\\appdata\\roaming\\python\\python312\\site-packages (from -r requirements.txt (line 35)) (2.8.2)\n",
      "Requirement already satisfied: pywin32==306 in c:\\users\\danyl\\appdata\\roaming\\python\\python312\\site-packages (from -r requirements.txt (line 36)) (306)\n",
      "Requirement already satisfied: pyzmq==25.1.2 in c:\\users\\danyl\\appdata\\roaming\\python\\python312\\site-packages (from -r requirements.txt (line 37)) (25.1.2)\n",
      "Requirement already satisfied: requests==2.32.3 in c:\\python312\\lib\\site-packages (from -r requirements.txt (line 38)) (2.32.3)\n",
      "Requirement already satisfied: selenium==4.31.0 in c:\\python312\\lib\\site-packages (from -r requirements.txt (line 39)) (4.31.0)\n",
      "Requirement already satisfied: six==1.16.0 in c:\\users\\danyl\\appdata\\roaming\\python\\python312\\site-packages (from -r requirements.txt (line 40)) (1.16.0)\n",
      "Requirement already satisfied: sniffio==1.3.1 in c:\\python312\\lib\\site-packages (from -r requirements.txt (line 41)) (1.3.1)\n",
      "Requirement already satisfied: sortedcontainers==2.4.0 in c:\\python312\\lib\\site-packages (from -r requirements.txt (line 42)) (2.4.0)\n",
      "Requirement already satisfied: stack-data==0.6.3 in c:\\users\\danyl\\appdata\\roaming\\python\\python312\\site-packages (from -r requirements.txt (line 43)) (0.6.3)\n",
      "Requirement already satisfied: tornado==6.4 in c:\\users\\danyl\\appdata\\roaming\\python\\python312\\site-packages (from -r requirements.txt (line 44)) (6.4)\n",
      "Requirement already satisfied: traitlets==5.14.1 in c:\\users\\danyl\\appdata\\roaming\\python\\python312\\site-packages (from -r requirements.txt (line 45)) (5.14.1)\n",
      "Requirement already satisfied: trio==0.29.0 in c:\\python312\\lib\\site-packages (from -r requirements.txt (line 46)) (0.29.0)\n",
      "Requirement already satisfied: trio-websocket==0.12.2 in c:\\python312\\lib\\site-packages (from -r requirements.txt (line 47)) (0.12.2)\n",
      "Requirement already satisfied: typing_extensions==4.13.1 in c:\\python312\\lib\\site-packages (from -r requirements.txt (line 48)) (4.13.1)\n",
      "Requirement already satisfied: urllib3==2.3.0 in c:\\python312\\lib\\site-packages (from -r requirements.txt (line 49)) (2.3.0)\n",
      "Requirement already satisfied: wcwidth==0.2.13 in c:\\users\\danyl\\appdata\\roaming\\python\\python312\\site-packages (from -r requirements.txt (line 50)) (0.2.13)\n",
      "Requirement already satisfied: websocket-client==1.8.0 in c:\\python312\\lib\\site-packages (from -r requirements.txt (line 51)) (1.8.0)\n",
      "Requirement already satisfied: wsproto==1.2.0 in c:\\python312\\lib\\site-packages (from -r requirements.txt (line 52)) (1.2.0)\n",
      "Requirement already satisfied: yt-dlp==2025.3.31 in c:\\python312\\lib\\site-packages (from -r requirements.txt (line 53)) (2025.3.31)\n",
      "Note: you may need to restart the kernel to use updated packages.\n"
     ]
    },
    {
     "name": "stderr",
     "output_type": "stream",
     "text": [
      "WARNING: Ignoring invalid distribution ~ (c:\\Python312\\Lib\\site-packages)\n",
      "WARNING: Ignoring invalid distribution ~ip (c:\\Python312\\Lib\\site-packages)\n",
      "WARNING: Ignoring invalid distribution ~ (c:\\Python312\\Lib\\site-packages)\n",
      "WARNING: Ignoring invalid distribution ~ip (c:\\Python312\\Lib\\site-packages)\n",
      "WARNING: Ignoring invalid distribution ~ (c:\\Python312\\Lib\\site-packages)\n",
      "WARNING: Ignoring invalid distribution ~ip (c:\\Python312\\Lib\\site-packages)\n",
      "WARNING: Ignoring invalid distribution ~ (c:\\Python312\\Lib\\site-packages)\n",
      "WARNING: Ignoring invalid distribution ~ip (c:\\Python312\\Lib\\site-packages)\n",
      "\n",
      "[notice] A new release of pip is available: 25.0.1 -> 25.1.1\n",
      "[notice] To update, run: python.exe -m pip install --upgrade pip\n"
     ]
    }
   ],
   "source": [
    "%pip install -r requirements.txt"
   ]
  },
  {
   "cell_type": "code",
   "execution_count": 7,
   "id": "82a3bf64",
   "metadata": {},
   "outputs": [],
   "source": [
    "from selenium import webdriver\n",
    "from selenium.webdriver.common.by import By\n",
    "from selenium.webdriver.common.keys import Keys\n",
    "import random\n",
    "import time\n",
    "import requests\n",
    "import os\n",
    "import instaloader\n",
    "import pathlib"
   ]
  },
  {
   "cell_type": "code",
   "execution_count": 10,
   "id": "ed7f7e6d",
   "metadata": {},
   "outputs": [
    {
     "name": "stdout",
     "output_type": "stream",
     "text": [
      "sessionid is 74182656371:BahiGEdpqyPagn:10:AYeby2W_3GrmEMsOJ9WCKIFoKIK1O4qUmZrDpECU1g\n",
      "✅ Logged in as: ofriviadaniel\n"
     ]
    }
   ],
   "source": [
    "with open(\"session2.txt\", \"r\") as f:\n",
    "    for line in f:\n",
    "        if \"sessionid=\" in line:\n",
    "            SESSIONID = line.strip().split(\"=\", 1)[1]\n",
    "        elif \"username=\" in line:\n",
    "            PROFILE_USERNAME = line.strip().split(\"=\", 1)[1]\n",
    "\n",
    "if not SESSIONID: \n",
    "    print(\"sessionid is not found in the session1.txt\")\n",
    "else:\n",
    "    print(f\"sessionid is {SESSIONID}\")\n",
    "    \n",
    "if not PROFILE_USERNAME: \n",
    "    print(\"Username can't be extracted please make sure that link to the saved folder is correct. It should have this structure: https://www.instagram.com/<username>/saved/<folder-name>/<folder-id>/\")\n",
    "\n",
    "L = instaloader.Instaloader()\n",
    "\n",
    "L.context._session.cookies.set(\"sessionid\", SESSIONID, domain=\".instagram.com\")\n",
    "try:\n",
    "    profile = instaloader.Profile.from_username(L.context, PROFILE_USERNAME)\n",
    "    print(\"✅ Logged in as:\", profile.username)\n",
    "except Exception as e:\n",
    "    print(\"❌ Login failed:\", e)"
   ]
  },
  {
   "cell_type": "code",
   "execution_count": 13,
   "id": "a1d7856e",
   "metadata": {},
   "outputs": [
    {
     "name": "stderr",
     "output_type": "stream",
     "text": [
      "JSON Query to graphql/query: 403 Forbidden when accessing https://www.instagram.com/graphql/query [retrying; skip with ^C]\n"
     ]
    },
    {
     "name": "stdout",
     "output_type": "stream",
     "text": [
      "..\\data\\C-MF_xhvULQ\\2024-08-03_01-15-00_UTC.jpg [𝗛𝗢𝗪 𝗧𝗢 𝗚𝗘𝗧 𝗚𝗛𝗜𝗕𝗟𝗜 𝗠𝗨𝗦𝗘𝗨𝗠 𝗧𝗜𝗖𝗞…] ..\\data\\C-MF_xhvULQ\\2024-08-03_01-15-00_UTC.mp4 json \n",
      "Downloaded 1/114\n"
     ]
    },
    {
     "name": "stderr",
     "output_type": "stream",
     "text": [
      "JSON Query to graphql/query: 403 Forbidden when accessing https://www.instagram.com/graphql/query [retrying; skip with ^C]\n"
     ]
    },
    {
     "name": "stdout",
     "output_type": "stream",
     "text": [
      "..\\data\\C-XqWp8SBxs\\2024-08-07_13-05-08_UTC.jpg [This is a complete game chang…] ..\\data\\C-XqWp8SBxs\\2024-08-07_13-05-08_UTC.mp4 json \n",
      "Downloaded 2/114\n"
     ]
    },
    {
     "name": "stderr",
     "output_type": "stream",
     "text": [
      "JSON Query to graphql/query: 403 Forbidden when accessing https://www.instagram.com/graphql/query [retrying; skip with ^C]\n"
     ]
    },
    {
     "name": "stdout",
     "output_type": "stream",
     "text": [
      "..\\data\\C-xus4JvxNo\\2024-08-17_16-03-20_UTC.jpg [👆Get the Map from the Link in…] ..\\data\\C-xus4JvxNo\\2024-08-17_16-03-20_UTC.mp4 json \n",
      "Downloaded 3/114\n"
     ]
    },
    {
     "name": "stderr",
     "output_type": "stream",
     "text": [
      "JSON Query to graphql/query: 403 Forbidden when accessing https://www.instagram.com/graphql/query [retrying; skip with ^C]\n"
     ]
    },
    {
     "name": "stdout",
     "output_type": "stream",
     "text": [
      "..\\data\\C_9SHPPJtMg\\2024-09-16_00-18-31_UTC.jpg [💥comment ‘calculator’ to get …] ..\\data\\C_9SHPPJtMg\\2024-09-16_00-18-31_UTC.mp4 json \n",
      "Downloaded 4/114\n"
     ]
    },
    {
     "name": "stderr",
     "output_type": "stream",
     "text": [
      "JSON Query to graphql/query: 403 Forbidden when accessing https://www.instagram.com/graphql/query [retrying; skip with ^C]\n"
     ]
    },
    {
     "name": "stdout",
     "output_type": "stream",
     "text": [
      "..\\data\\DA-1Z0My5Gx\\2024-10-11_11-15-40_UTC.jpg [Why you should not stay in Sh…] ..\\data\\DA-1Z0My5Gx\\2024-10-11_11-15-40_UTC.mp4 json \n",
      "Downloaded 5/114\n"
     ]
    },
    {
     "name": "stderr",
     "output_type": "stream",
     "text": [
      "JSON Query to graphql/query: 403 Forbidden when accessing https://www.instagram.com/graphql/query [retrying; skip with ^C]\n"
     ]
    },
    {
     "name": "stdout",
     "output_type": "stream",
     "text": [
      "..\\data\\DA0gmzzy90O\\2024-10-07_11-01-00_UTC.jpg [4 Tickets for Exploring Tokyo…] ..\\data\\DA0gmzzy90O\\2024-10-07_11-01-00_UTC.mp4 json \n",
      "Downloaded 6/114\n"
     ]
    },
    {
     "name": "stderr",
     "output_type": "stream",
     "text": [
      "JSON Query to graphql/query: 403 Forbidden when accessing https://www.instagram.com/graphql/query [retrying; skip with ^C]\n"
     ]
    },
    {
     "name": "stdout",
     "output_type": "stream",
     "text": [
      "..\\data\\DA24OliTR5a\\2024-10-08_09-05-00_UTC.jpg [WHO AM I ? I am a knowledgeab…] ..\\data\\DA24OliTR5a\\2024-10-08_09-05-00_UTC.mp4 json \n",
      "Downloaded 7/114\n"
     ]
    },
    {
     "name": "stderr",
     "output_type": "stream",
     "text": [
      "JSON Query to graphql/query: 403 Forbidden when accessing https://www.instagram.com/graphql/query [retrying; skip with ^C]\n"
     ]
    },
    {
     "name": "stdout",
     "output_type": "stream",
     "text": [
      "..\\data\\DAsl476RzXV\\2024-10-04_09-12-52_UTC.jpg [💬Comment <FIRST> to get this …] ..\\data\\DAsl476RzXV\\2024-10-04_09-12-52_UTC.mp4 json \n",
      "Downloaded 8/114\n"
     ]
    },
    {
     "name": "stderr",
     "output_type": "stream",
     "text": [
      "JSON Query to graphql/query: 403 Forbidden when accessing https://www.instagram.com/graphql/query [retrying; skip with ^C]\n"
     ]
    },
    {
     "name": "stdout",
     "output_type": "stream",
     "text": [
      "..\\data\\DB6RFXHyjZA\\2024-11-03_13-12-52_UTC.jpg [And the best part is it’s als…] ..\\data\\DB6RFXHyjZA\\2024-11-03_13-12-52_UTC.mp4 json \n",
      "Downloaded 9/114\n"
     ]
    },
    {
     "name": "stderr",
     "output_type": "stream",
     "text": [
      "JSON Query to graphql/query: 403 Forbidden when accessing https://www.instagram.com/graphql/query [retrying; skip with ^C]\n"
     ]
    },
    {
     "name": "stdout",
     "output_type": "stream",
     "text": [
      "..\\data\\DB8_Op-vi-6\\2024-11-04_14-39-48_UTC.jpg [For less than $6 a day, I vis…] ..\\data\\DB8_Op-vi-6\\2024-11-04_14-39-48_UTC.mp4 json \n",
      "Downloaded 10/114\n"
     ]
    },
    {
     "name": "stderr",
     "output_type": "stream",
     "text": [
      "JSON Query to graphql/query: 403 Forbidden when accessing https://www.instagram.com/graphql/query [retrying; skip with ^C]\n"
     ]
    },
    {
     "name": "stdout",
     "output_type": "stream",
     "text": [
      "..\\data\\DBP29CjJFZF\\2024-10-18_02-05-39_UTC.jpg [comment “DEAL” to receive a l…] ..\\data\\DBP29CjJFZF\\2024-10-18_02-05-39_UTC.mp4 json \n",
      "Downloaded 11/114\n"
     ]
    },
    {
     "name": "stderr",
     "output_type": "stream",
     "text": [
      "JSON Query to graphql/query: 403 Forbidden when accessing https://www.instagram.com/graphql/query [retrying; skip with ^C]\n"
     ]
    },
    {
     "name": "stdout",
     "output_type": "stream",
     "text": [
      "..\\data\\DBheSNCJzup\\2024-10-24_22-16-45_UTC.jpg [Did you know you can hike up …] ..\\data\\DBheSNCJzup\\2024-10-24_22-16-45_UTC.mp4 json \n",
      "Downloaded 12/114\n"
     ]
    },
    {
     "name": "stderr",
     "output_type": "stream",
     "text": [
      "JSON Query to graphql/query: 403 Forbidden when accessing https://www.instagram.com/graphql/query [retrying; skip with ^C]\n"
     ]
    },
    {
     "name": "stdout",
     "output_type": "stream",
     "text": [
      "..\\data\\DC1NJAjydck\\2024-11-26_10-33-25_UTC.jpg [⤵️ 5 Day Tokyo Itinerary  🙋‍♀…] ..\\data\\DC1NJAjydck\\2024-11-26_10-33-25_UTC.mp4 json \n",
      "Downloaded 13/114\n"
     ]
    },
    {
     "name": "stderr",
     "output_type": "stream",
     "text": [
      "JSON Query to graphql/query: 403 Forbidden when accessing https://www.instagram.com/graphql/query [retrying; skip with ^C]\n"
     ]
    },
    {
     "name": "stdout",
     "output_type": "stream",
     "text": [
      "..\\data\\DCNPPpEqqBM\\2024-11-10_22-01-43_UTC.jpg [Top 3 YouTube Channels to lea…] ..\\data\\DCNPPpEqqBM\\2024-11-10_22-01-43_UTC.mp4 json \n",
      "Downloaded 14/114\n"
     ]
    },
    {
     "name": "stderr",
     "output_type": "stream",
     "text": [
      "JSON Query to graphql/query: 403 Forbidden when accessing https://www.instagram.com/graphql/query [retrying; skip with ^C]\n"
     ]
    },
    {
     "name": "stdout",
     "output_type": "stream",
     "text": [
      "..\\data\\DCTepepvJht\\2024-11-13_08-11-43_UTC.jpg [Have you heard about this pla…] ..\\data\\DCTepepvJht\\2024-11-13_08-11-43_UTC.mp4 json \n",
      "Downloaded 15/114\n"
     ]
    },
    {
     "name": "stderr",
     "output_type": "stream",
     "text": [
      "JSON Query to graphql/query: 403 Forbidden when accessing https://www.instagram.com/graphql/query [retrying; skip with ^C]\n"
     ]
    },
    {
     "name": "stdout",
     "output_type": "stream",
     "text": [
      "..\\data\\DCcGZNIyUpC\\2024-11-16_16-33-40_UTC.jpg [👆Get the Map from the Link in…] ..\\data\\DCcGZNIyUpC\\2024-11-16_16-33-40_UTC.mp4 json \n",
      "Downloaded 16/114\n"
     ]
    },
    {
     "name": "stderr",
     "output_type": "stream",
     "text": [
      "JSON Query to graphql/query: 403 Forbidden when accessing https://www.instagram.com/graphql/query [retrying; skip with ^C]\n"
     ]
    },
    {
     "name": "stdout",
     "output_type": "stream",
     "text": [
      "..\\data\\DD0RvoySQtF\\2024-12-20_22-28-43_UTC.jpg [Would you pay $2 to be here?👀…] ..\\data\\DD0RvoySQtF\\2024-12-20_22-28-43_UTC.mp4 json \n",
      "Downloaded 17/114\n"
     ]
    },
    {
     "name": "stderr",
     "output_type": "stream",
     "text": [
      "JSON Query to graphql/query: 403 Forbidden when accessing https://www.instagram.com/graphql/query [retrying; skip with ^C]\n"
     ]
    },
    {
     "name": "stdout",
     "output_type": "stream",
     "text": [
      "..\\data\\DD9kW7CSDZV\\2024-12-26_13-00-00_UTC.jpg [What is this..#japan #japanes…] ..\\data\\DD9kW7CSDZV\\2024-12-26_13-00-00_UTC.mp4 json \n",
      "Downloaded 18/114\n"
     ]
    },
    {
     "name": "stderr",
     "output_type": "stream",
     "text": [
      "JSON Query to graphql/query: 403 Forbidden when accessing https://www.instagram.com/graphql/query [retrying; skip with ^C]\n"
     ]
    },
    {
     "name": "stdout",
     "output_type": "stream",
     "text": [
      "..\\data\\DDE8bwrSX_A\\2024-12-02_13-14-52_UTC.jpg [Just be prepared because you …] ..\\data\\DDE8bwrSX_A\\2024-12-02_13-14-52_UTC.mp4 json \n",
      "Downloaded 19/114\n"
     ]
    },
    {
     "name": "stderr",
     "output_type": "stream",
     "text": [
      "JSON Query to graphql/query: 403 Forbidden when accessing https://www.instagram.com/graphql/query [retrying; skip with ^C]\n"
     ]
    },
    {
     "name": "stdout",
     "output_type": "stream",
     "text": [
      "..\\data\\DDJ87l7zf3F\\2024-12-04_11-54-28_UTC_1.jpg ..\\data\\DDJ87l7zf3F\\2024-12-04_11-54-28_UTC_2.jpg ..\\data\\DDJ87l7zf3F\\2024-12-04_11-54-28_UTC_3.jpg ..\\data\\DDJ87l7zf3F\\2024-12-04_11-54-28_UTC_4.jpg ..\\data\\DDJ87l7zf3F\\2024-12-04_11-54-28_UTC_5.jpg ..\\data\\DDJ87l7zf3F\\2024-12-04_11-54-28_UTC_6.jpg ..\\data\\DDJ87l7zf3F\\2024-12-04_11-54-28_UTC_7.jpg ..\\data\\DDJ87l7zf3F\\2024-12-04_11-54-28_UTC_8.jpg ..\\data\\DDJ87l7zf3F\\2024-12-04_11-54-28_UTC_9.jpg ..\\data\\DDJ87l7zf3F\\2024-12-04_11-54-28_UTC_10.jpg [Okay tabelog is a website but…] json \n",
      "Downloaded 20/114\n"
     ]
    },
    {
     "name": "stderr",
     "output_type": "stream",
     "text": [
      "JSON Query to graphql/query: 403 Forbidden when accessing https://www.instagram.com/graphql/query [retrying; skip with ^C]\n"
     ]
    },
    {
     "name": "stdout",
     "output_type": "stream",
     "text": [
      "..\\data\\DD_0iEiTlbt\\2024-12-25_10-00-00_UTC.jpg [Two hidden bamboo forests in …] ..\\data\\DD_0iEiTlbt\\2024-12-25_10-00-00_UTC.mp4 json \n",
      "Downloaded 21/114\n"
     ]
    },
    {
     "name": "stderr",
     "output_type": "stream",
     "text": [
      "JSON Query to graphql/query: 403 Forbidden when accessing https://www.instagram.com/graphql/query [retrying; skip with ^C]\n"
     ]
    },
    {
     "name": "stdout",
     "output_type": "stream",
     "text": [
      "..\\data\\DDbwvJkv6qv\\2024-12-11_09-54-34_UTC.jpg [A trip to Japan is honestly u…] ..\\data\\DDbwvJkv6qv\\2024-12-11_09-54-34_UTC.mp4 json \n",
      "Downloaded 22/114\n"
     ]
    },
    {
     "name": "stderr",
     "output_type": "stream",
     "text": [
      "JSON Query to graphql/query: 403 Forbidden when accessing https://www.instagram.com/graphql/query [retrying; skip with ^C]\n"
     ]
    },
    {
     "name": "stdout",
     "output_type": "stream",
     "text": [
      "..\\data\\DDcD9RlTWoV\\2024-12-11_12-42-12_UTC_1.jpg ..\\data\\DDcD9RlTWoV\\2024-12-11_12-42-12_UTC_2.jpg ..\\data\\DDcD9RlTWoV\\2024-12-11_12-42-12_UTC_3.jpg ..\\data\\DDcD9RlTWoV\\2024-12-11_12-42-12_UTC_4.jpg ..\\data\\DDcD9RlTWoV\\2024-12-11_12-42-12_UTC_5.jpg ..\\data\\DDcD9RlTWoV\\2024-12-11_12-42-12_UTC_6.jpg ..\\data\\DDcD9RlTWoV\\2024-12-11_12-42-12_UTC_7.jpg [Sumo practice is available th…] json \n",
      "Downloaded 23/114\n"
     ]
    },
    {
     "name": "stderr",
     "output_type": "stream",
     "text": [
      "JSON Query to graphql/query: 403 Forbidden when accessing https://www.instagram.com/graphql/query [retrying; skip with ^C]\n"
     ]
    },
    {
     "name": "stdout",
     "output_type": "stream",
     "text": [
      "..\\data\\DDekqr9Tq8Z\\2024-12-12_12-10-11_UTC.jpg [Stop taking expensive trains …] ..\\data\\DDekqr9Tq8Z\\2024-12-12_12-10-11_UTC.mp4 json \n",
      "Downloaded 24/114\n"
     ]
    },
    {
     "name": "stderr",
     "output_type": "stream",
     "text": [
      "JSON Query to graphql/query: 403 Forbidden when accessing https://www.instagram.com/graphql/query [retrying; skip with ^C]\n"
     ]
    },
    {
     "name": "stdout",
     "output_type": "stream",
     "text": [
      "..\\data\\DDkCvqbypTn\\2024-12-14_15-06-31_UTC.jpg [READ THIS 👇🏻🏮  ✅ Comment 'Jap…] ..\\data\\DDkCvqbypTn\\2024-12-14_15-06-31_UTC.mp4 json \n",
      "Downloaded 25/114\n"
     ]
    },
    {
     "name": "stderr",
     "output_type": "stream",
     "text": [
      "JSON Query to graphql/query: 403 Forbidden when accessing https://www.instagram.com/graphql/query [retrying; skip with ^C]\n"
     ]
    },
    {
     "name": "stdout",
     "output_type": "stream",
     "text": [
      "..\\data\\DDmabtWyJ9x\\2024-12-15_13-11-41_UTC.jpg [Wait until you see how much t…] ..\\data\\DDmabtWyJ9x\\2024-12-15_13-11-41_UTC.mp4 json \n",
      "Downloaded 26/114\n"
     ]
    },
    {
     "name": "stderr",
     "output_type": "stream",
     "text": [
      "JSON Query to graphql/query: 403 Forbidden when accessing https://www.instagram.com/graphql/query [retrying; skip with ^C]\n"
     ]
    },
    {
     "name": "stdout",
     "output_type": "stream",
     "text": [
      "..\\data\\DE10eWszWJr\\2025-01-15_09-20-16_UTC.jpg [Follow for more Japan travel …] ..\\data\\DE10eWszWJr\\2025-01-15_09-20-16_UTC.mp4 json \n",
      "Downloaded 27/114\n"
     ]
    },
    {
     "name": "stderr",
     "output_type": "stream",
     "text": [
      "JSON Query to graphql/query: 403 Forbidden when accessing https://www.instagram.com/graphql/query [retrying; skip with ^C]\n"
     ]
    },
    {
     "name": "stdout",
     "output_type": "stream",
     "text": [
      "..\\data\\DE4dfMUyyLx\\2025-01-16_09-55-58_UTC.jpg [Strange Japanese Candy🍭 （Gumi…] ..\\data\\DE4dfMUyyLx\\2025-01-16_09-55-58_UTC.mp4 json \n",
      "Downloaded 28/114\n"
     ]
    },
    {
     "name": "stderr",
     "output_type": "stream",
     "text": [
      "JSON Query to graphql/query: 403 Forbidden when accessing https://www.instagram.com/graphql/query [retrying; skip with ^C]\n"
     ]
    },
    {
     "name": "stdout",
     "output_type": "stream",
     "text": [
      "..\\data\\DE4q20Dz_0Y\\2025-01-16_11-52-14_UTC_1.jpg ..\\data\\DE4q20Dz_0Y\\2025-01-16_11-52-14_UTC_2.jpg ..\\data\\DE4q20Dz_0Y\\2025-01-16_11-52-14_UTC_3.jpg ..\\data\\DE4q20Dz_0Y\\2025-01-16_11-52-14_UTC_4.jpg ..\\data\\DE4q20Dz_0Y\\2025-01-16_11-52-14_UTC_5.jpg ..\\data\\DE4q20Dz_0Y\\2025-01-16_11-52-14_UTC_6.jpg ..\\data\\DE4q20Dz_0Y\\2025-01-16_11-52-14_UTC_7.jpg [Save this for your trip! #jap…] json \n",
      "Downloaded 29/114\n"
     ]
    },
    {
     "name": "stderr",
     "output_type": "stream",
     "text": [
      "JSON Query to graphql/query: 403 Forbidden when accessing https://www.instagram.com/graphql/query [retrying; skip with ^C]\n"
     ]
    },
    {
     "name": "stdout",
     "output_type": "stream",
     "text": [
      "..\\data\\DE6UfIlRZ5g\\2025-01-17_03-16-09_UTC.jpg [Worlds Best Pancakes - - - Bu…] ..\\data\\DE6UfIlRZ5g\\2025-01-17_03-16-09_UTC.mp4 json \n",
      "Downloaded 30/114\n"
     ]
    },
    {
     "name": "stderr",
     "output_type": "stream",
     "text": [
      "JSON Query to graphql/query: 403 Forbidden when accessing https://www.instagram.com/graphql/query [retrying; skip with ^C]\n"
     ]
    },
    {
     "name": "stdout",
     "output_type": "stream",
     "text": [
      "..\\data\\DE7C4UQyQU7\\2025-01-17_10-01-39_UTC.jpg [MUST TRY Japanese convenience…] ..\\data\\DE7C4UQyQU7\\2025-01-17_10-01-39_UTC.mp4 json \n",
      "Downloaded 31/114\n"
     ]
    },
    {
     "name": "stderr",
     "output_type": "stream",
     "text": [
      "JSON Query to graphql/query: 403 Forbidden when accessing https://www.instagram.com/graphql/query [retrying; skip with ^C]\n"
     ]
    },
    {
     "name": "stdout",
     "output_type": "stream",
     "text": [
      "..\\data\\DE7Qkg_vWUt\\2025-01-17_12-00-00_UTC.jpg [Tokyo Overlooked - Asakusa Un…] ..\\data\\DE7Qkg_vWUt\\2025-01-17_12-00-00_UTC.mp4 json \n",
      "Downloaded 32/114\n"
     ]
    },
    {
     "name": "stderr",
     "output_type": "stream",
     "text": [
      "JSON Query to graphql/query: 403 Forbidden when accessing https://www.instagram.com/graphql/query [retrying; skip with ^C]\n"
     ]
    },
    {
     "name": "stdout",
     "output_type": "stream",
     "text": [
      "..\\data\\DEGo2lQPvN7\\2024-12-28_01-33-14_UTC.jpg [UPDATE: These tax refund chan…] ..\\data\\DEGo2lQPvN7\\2024-12-28_01-33-14_UTC.mp4 json \n",
      "Downloaded 33/114\n"
     ]
    },
    {
     "name": "stderr",
     "output_type": "stream",
     "text": [
      "JSON Query to graphql/query: 403 Forbidden when accessing https://www.instagram.com/graphql/query [retrying; skip with ^C]\n"
     ]
    },
    {
     "name": "stdout",
     "output_type": "stream",
     "text": [
      "..\\data\\DEHp1t4STNI\\2024-12-28_11-00-00_UTC.jpg [Essential words for your next…] ..\\data\\DEHp1t4STNI\\2024-12-28_11-00-00_UTC.mp4 json \n",
      "Downloaded 34/114\n"
     ]
    },
    {
     "name": "stderr",
     "output_type": "stream",
     "text": [
      "JSON Query to graphql/query: 403 Forbidden when accessing https://www.instagram.com/graphql/query [retrying; skip with ^C]\n"
     ]
    },
    {
     "name": "stdout",
     "output_type": "stream",
     "text": [
      "..\\data\\DEU29qIomPu\\2025-01-02_14-05-00_UTC_1.jpg ..\\data\\DEU29qIomPu\\2025-01-02_14-05-00_UTC_2.jpg ..\\data\\DEU29qIomPu\\2025-01-02_14-05-00_UTC_3.jpg ..\\data\\DEU29qIomPu\\2025-01-02_14-05-00_UTC_4.jpg ..\\data\\DEU29qIomPu\\2025-01-02_14-05-00_UTC_5.jpg [A year in Osaka’s underground…] json \n",
      "Downloaded 35/114\n"
     ]
    },
    {
     "name": "stderr",
     "output_type": "stream",
     "text": [
      "JSON Query to graphql/query: 403 Forbidden when accessing https://www.instagram.com/graphql/query [retrying; skip with ^C]\n"
     ]
    },
    {
     "name": "stdout",
     "output_type": "stream",
     "text": [
      "..\\data\\DEUIfcvviFP\\2025-01-02_07-20-48_UTC.jpg [10 Things to do in Tokyo 🇯🇵  …] ..\\data\\DEUIfcvviFP\\2025-01-02_07-20-48_UTC.mp4 json \n",
      "Downloaded 36/114\n"
     ]
    },
    {
     "name": "stderr",
     "output_type": "stream",
     "text": [
      "JSON Query to graphql/query: 403 Forbidden when accessing https://www.instagram.com/graphql/query [retrying; skip with ^C]\n"
     ]
    },
    {
     "name": "stdout",
     "output_type": "stream",
     "text": [
      "..\\data\\DEUa9EOTPT8\\2025-01-02_10-00-00_UTC.jpg [Travel from Tokyo to Kyoto fo…] ..\\data\\DEUa9EOTPT8\\2025-01-02_10-00-00_UTC.mp4 json \n",
      "Downloaded 37/114\n"
     ]
    },
    {
     "name": "stderr",
     "output_type": "stream",
     "text": [
      "JSON Query to graphql/query: 403 Forbidden when accessing https://www.instagram.com/graphql/query [retrying; skip with ^C]\n"
     ]
    },
    {
     "name": "stdout",
     "output_type": "stream",
     "text": [
      "..\\data\\DEWjTFjyZfw\\2025-01-03_05-56-19_UTC.jpg [3 must-buys when you visit Ja…] ..\\data\\DEWjTFjyZfw\\2025-01-03_05-56-19_UTC.mp4 json \n",
      "Downloaded 38/114\n"
     ]
    },
    {
     "name": "stderr",
     "output_type": "stream",
     "text": [
      "JSON Query to graphql/query: 403 Forbidden when accessing https://www.instagram.com/graphql/query [retrying; skip with ^C]\n"
     ]
    },
    {
     "name": "stdout",
     "output_type": "stream",
     "text": [
      "..\\data\\DEZ2yaisM3D\\2025-01-04_12-45-09_UTC.jpg [⬇️ Get the timetable here and…] ..\\data\\DEZ2yaisM3D\\2025-01-04_12-45-09_UTC.mp4 json \n",
      "Downloaded 39/114\n"
     ]
    },
    {
     "name": "stderr",
     "output_type": "stream",
     "text": [
      "JSON Query to graphql/query: 403 Forbidden when accessing https://www.instagram.com/graphql/query [retrying; skip with ^C]\n"
     ]
    },
    {
     "name": "stdout",
     "output_type": "stream",
     "text": [
      "..\\data\\DEaW2HBTjM5\\2025-01-04_17-20-19_UTC.jpg [🎌 Things I Wish I Knew Before…] ..\\data\\DEaW2HBTjM5\\2025-01-04_17-20-19_UTC.mp4 json \n",
      "Downloaded 40/114\n"
     ]
    },
    {
     "name": "stderr",
     "output_type": "stream",
     "text": [
      "JSON Query to graphql/query: 403 Forbidden when accessing https://www.instagram.com/graphql/query [retrying; skip with ^C]\n"
     ]
    },
    {
     "name": "stdout",
     "output_type": "stream",
     "text": [
      "..\\data\\DEavwpVBlj3\\2025-01-04_20-57-52_UTC_1.jpg ..\\data\\DEavwpVBlj3\\2025-01-04_20-57-52_UTC_2.jpg ..\\data\\DEavwpVBlj3\\2025-01-04_20-57-52_UTC_3.jpg ..\\data\\DEavwpVBlj3\\2025-01-04_20-57-52_UTC_4.jpg ..\\data\\DEavwpVBlj3\\2025-01-04_20-57-52_UTC_5.jpg ..\\data\\DEavwpVBlj3\\2025-01-04_20-57-52_UTC_6.jpg ..\\data\\DEavwpVBlj3\\2025-01-04_20-57-52_UTC_7.jpg ..\\data\\DEavwpVBlj3\\2025-01-04_20-57-52_UTC_8.jpg ..\\data\\DEavwpVBlj3\\2025-01-04_20-57-52_UTC_9.jpg [Follow us for more detailed J…] json \n",
      "Downloaded 41/114\n"
     ]
    },
    {
     "name": "stderr",
     "output_type": "stream",
     "text": [
      "JSON Query to graphql/query: 403 Forbidden when accessing https://www.instagram.com/graphql/query [retrying; skip with ^C]\n"
     ]
    },
    {
     "name": "stdout",
     "output_type": "stream",
     "text": [
      "..\\data\\DEbwnTovWw2\\2025-01-05_06-26-33_UTC.jpg [8 Things to do in Kyoto 🇯🇵  ‼…] ..\\data\\DEbwnTovWw2\\2025-01-05_06-26-33_UTC.mp4 json \n",
      "Downloaded 42/114\n"
     ]
    },
    {
     "name": "stderr",
     "output_type": "stream",
     "text": [
      "JSON Query to graphql/query: 403 Forbidden when accessing https://www.instagram.com/graphql/query [retrying; skip with ^C]\n"
     ]
    },
    {
     "name": "stdout",
     "output_type": "stream",
     "text": [
      "..\\data\\DElvWuggQPz\\2025-01-09_03-28-17_UTC.jpg [The number ☝🏼 Japan travel ti…] ..\\data\\DElvWuggQPz\\2025-01-09_03-28-17_UTC.mp4 json \n",
      "Downloaded 43/114\n"
     ]
    },
    {
     "name": "stderr",
     "output_type": "stream",
     "text": [
      "JSON Query to graphql/query: 403 Forbidden when accessing https://www.instagram.com/graphql/query [retrying; skip with ^C]\n"
     ]
    },
    {
     "name": "stdout",
     "output_type": "stream",
     "text": [
      "..\\data\\DEmxHfky4Rl\\2025-01-09_13-02-39_UTC.jpg [Wait until you see the double…] ..\\data\\DEmxHfky4Rl\\2025-01-09_13-02-39_UTC.mp4 json \n",
      "Downloaded 44/114\n"
     ]
    },
    {
     "name": "stderr",
     "output_type": "stream",
     "text": [
      "JSON Query to graphql/query: 403 Forbidden when accessing https://www.instagram.com/graphql/query [retrying; skip with ^C]\n"
     ]
    },
    {
     "name": "stdout",
     "output_type": "stream",
     "text": [
      "..\\data\\DEpP4JCyQ_E\\2025-01-10_12-08-34_UTC.jpg [One of the most incredible da…] ..\\data\\DEpP4JCyQ_E\\2025-01-10_12-08-34_UTC.mp4 json \n",
      "Downloaded 45/114\n"
     ]
    },
    {
     "name": "stderr",
     "output_type": "stream",
     "text": [
      "JSON Query to graphql/query: 403 Forbidden when accessing https://www.instagram.com/graphql/query [retrying; skip with ^C]\n"
     ]
    },
    {
     "name": "stdout",
     "output_type": "stream",
     "text": [
      "..\\data\\DEqZUlVSpnJ\\2025-01-10_22-50-56_UTC.jpg [This might ruin regular soda …] ..\\data\\DEqZUlVSpnJ\\2025-01-10_22-50-56_UTC.mp4 json \n",
      "Downloaded 46/114\n"
     ]
    },
    {
     "name": "stderr",
     "output_type": "stream",
     "text": [
      "JSON Query to graphql/query: 403 Forbidden when accessing https://www.instagram.com/graphql/query [retrying; skip with ^C]\n"
     ]
    },
    {
     "name": "stdout",
     "output_type": "stream",
     "text": [
      "..\\data\\DF0CZaZSNfh\\2025-02-08_13-13-56_UTC.jpg [Wait until you see it at nigh…] ..\\data\\DF0CZaZSNfh\\2025-02-08_13-13-56_UTC.mp4 json \n",
      "Downloaded 47/114\n"
     ]
    },
    {
     "name": "stderr",
     "output_type": "stream",
     "text": [
      "JSON Query to graphql/query: 403 Forbidden when accessing https://www.instagram.com/graphql/query [retrying; skip with ^C]\n"
     ]
    },
    {
     "name": "stdout",
     "output_type": "stream",
     "text": [
      "..\\data\\DF0OwnQtaZu\\2025-02-08_15-03-27_UTC.jpg [Forget about Arashiyama! GIVE…] ..\\data\\DF0OwnQtaZu\\2025-02-08_15-03-27_UTC.mp4 json \n",
      "Downloaded 48/114\n"
     ]
    },
    {
     "name": "stderr",
     "output_type": "stream",
     "text": [
      "JSON Query to graphql/query: 403 Forbidden when accessing https://www.instagram.com/graphql/query [retrying; skip with ^C]\n"
     ]
    },
    {
     "name": "stdout",
     "output_type": "stream",
     "text": [
      "..\\data\\DF34G-avRCt\\2025-02-10_01-00-11_UTC_1.jpg ..\\data\\DF34G-avRCt\\2025-02-10_01-00-11_UTC_2.jpg ..\\data\\DF34G-avRCt\\2025-02-10_01-00-11_UTC_3.jpg ..\\data\\DF34G-avRCt\\2025-02-10_01-00-11_UTC_3.mp4 ..\\data\\DF34G-avRCt\\2025-02-10_01-00-11_UTC_4.jpg ..\\data\\DF34G-avRCt\\2025-02-10_01-00-11_UTC_5.jpg ..\\data\\DF34G-avRCt\\2025-02-10_01-00-11_UTC_5.mp4 ..\\data\\DF34G-avRCt\\2025-02-10_01-00-11_UTC_6.jpg ..\\data\\DF34G-avRCt\\2025-02-10_01-00-11_UTC_7.jpg ..\\data\\DF34G-avRCt\\2025-02-10_01-00-11_UTC_7.mp4 ..\\data\\DF34G-avRCt\\2025-02-10_01-00-11_UTC_8.jpg ..\\data\\DF34G-avRCt\\2025-02-10_01-00-11_UTC_8.mp4 [Comment “Japan” for a Google …] json \n",
      "Downloaded 49/114\n"
     ]
    },
    {
     "name": "stderr",
     "output_type": "stream",
     "text": [
      "JSON Query to graphql/query: 403 Forbidden when accessing https://www.instagram.com/graphql/query [retrying; skip with ^C]\n"
     ]
    },
    {
     "name": "stdout",
     "output_type": "stream",
     "text": [
      "..\\data\\DF4-wPzTcHS\\2025-02-10_11-17-29_UTC_1.jpg ..\\data\\DF4-wPzTcHS\\2025-02-10_11-17-29_UTC_2.jpg ..\\data\\DF4-wPzTcHS\\2025-02-10_11-17-29_UTC_3.jpg ..\\data\\DF4-wPzTcHS\\2025-02-10_11-17-29_UTC_4.jpg ..\\data\\DF4-wPzTcHS\\2025-02-10_11-17-29_UTC_5.jpg [Lots of matcha brands that i …] json \n",
      "Downloaded 50/114\n"
     ]
    },
    {
     "name": "stderr",
     "output_type": "stream",
     "text": [
      "JSON Query to graphql/query: 403 Forbidden when accessing https://www.instagram.com/graphql/query [retrying; skip with ^C]\n"
     ]
    },
    {
     "name": "stdout",
     "output_type": "stream",
     "text": [
      "..\\data\\DF5I16jvptq\\2025-02-10_12-45-00_UTC.jpg [5 Must-Go Ramen Restaurants i…] ..\\data\\DF5I16jvptq\\2025-02-10_12-45-00_UTC.mp4 json \n",
      "Downloaded 51/114\n"
     ]
    },
    {
     "name": "stderr",
     "output_type": "stream",
     "text": [
      "JSON Query to graphql/query: 403 Forbidden when accessing https://www.instagram.com/graphql/query [retrying; skip with ^C]\n"
     ]
    },
    {
     "name": "stdout",
     "output_type": "stream",
     "text": [
      "..\\data\\DF9woZdzbef\\2025-02-12_07-50-20_UTC_1.jpg ..\\data\\DF9woZdzbef\\2025-02-12_07-50-20_UTC_2.jpg ..\\data\\DF9woZdzbef\\2025-02-12_07-50-20_UTC_3.jpg ..\\data\\DF9woZdzbef\\2025-02-12_07-50-20_UTC_4.jpg ..\\data\\DF9woZdzbef\\2025-02-12_07-50-20_UTC_5.jpg ..\\data\\DF9woZdzbef\\2025-02-12_07-50-20_UTC_6.jpg [In Japan’s more remote areas,…] json \n",
      "Downloaded 52/114\n"
     ]
    },
    {
     "name": "stderr",
     "output_type": "stream",
     "text": [
      "JSON Query to graphql/query: 403 Forbidden when accessing https://www.instagram.com/graphql/query [retrying; skip with ^C]\n"
     ]
    },
    {
     "name": "stdout",
     "output_type": "stream",
     "text": [
      "..\\data\\DFC--O0y42B\\2025-01-20_12-00-00_UTC.jpg [As requested, a shop with me …] ..\\data\\DFC--O0y42B\\2025-01-20_12-00-00_UTC.mp4 json \n",
      "Downloaded 53/114\n"
     ]
    },
    {
     "name": "stderr",
     "output_type": "stream",
     "text": [
      "JSON Query to graphql/query: 403 Forbidden when accessing https://www.instagram.com/graphql/query [retrying; skip with ^C]\n"
     ]
    },
    {
     "name": "stdout",
     "output_type": "stream",
     "text": [
      "..\\data\\DFFWFG3TvkL\\2025-01-21_10-00-00_UTC.jpg [5 must-do things in Nara🦌  Ha…] ..\\data\\DFFWFG3TvkL\\2025-01-21_10-00-00_UTC.mp4 json \n",
      "Downloaded 54/114\n"
     ]
    },
    {
     "name": "stderr",
     "output_type": "stream",
     "text": [
      "JSON Query to graphql/query: 403 Forbidden when accessing https://www.instagram.com/graphql/query [retrying; skip with ^C]\n"
     ]
    },
    {
     "name": "stdout",
     "output_type": "stream",
     "text": [
      "..\\data\\DFFhfHnz_1G\\2025-01-21_11-40-29_UTC_1.jpg ..\\data\\DFFhfHnz_1G\\2025-01-21_11-40-29_UTC_2.jpg ..\\data\\DFFhfHnz_1G\\2025-01-21_11-40-29_UTC_3.jpg ..\\data\\DFFhfHnz_1G\\2025-01-21_11-40-29_UTC_4.jpg ..\\data\\DFFhfHnz_1G\\2025-01-21_11-40-29_UTC_5.jpg ..\\data\\DFFhfHnz_1G\\2025-01-21_11-40-29_UTC_6.jpg ..\\data\\DFFhfHnz_1G\\2025-01-21_11-40-29_UTC_7.jpg ..\\data\\DFFhfHnz_1G\\2025-01-21_11-40-29_UTC_8.jpg [I’m sorry for what is about t…] json \n",
      "Downloaded 55/114\n"
     ]
    },
    {
     "name": "stderr",
     "output_type": "stream",
     "text": [
      "JSON Query to graphql/query: 403 Forbidden when accessing https://www.instagram.com/graphql/query [retrying; skip with ^C]\n"
     ]
    },
    {
     "name": "stdout",
     "output_type": "stream",
     "text": [
      "..\\data\\DFISDB3SYHN\\2025-01-22_13-23-54_UTC.jpg [I love the third floor soo mu…] ..\\data\\DFISDB3SYHN\\2025-01-22_13-23-54_UTC.mp4 json \n",
      "Downloaded 56/114\n"
     ]
    },
    {
     "name": "stderr",
     "output_type": "stream",
     "text": [
      "JSON Query to graphql/query: 403 Forbidden when accessing https://www.instagram.com/graphql/query [retrying; skip with ^C]\n"
     ]
    },
    {
     "name": "stdout",
     "output_type": "stream",
     "text": [
      "..\\data\\DFIWddSywc0\\2025-01-22_14-15-55_UTC.jpg [👘 Best of Kanazawa 🪭  Even th…] ..\\data\\DFIWddSywc0\\2025-01-22_14-15-55_UTC.mp4 json \n",
      "Downloaded 57/114\n"
     ]
    },
    {
     "name": "stderr",
     "output_type": "stream",
     "text": [
      "JSON Query to graphql/query: 403 Forbidden when accessing https://www.instagram.com/graphql/query [retrying; skip with ^C]\n"
     ]
    },
    {
     "name": "stdout",
     "output_type": "stream",
     "text": [
      "..\\data\\DFJAeAUxF62\\2025-01-22_20-08-56_UTC_1.jpg ..\\data\\DFJAeAUxF62\\2025-01-22_20-08-56_UTC_2.jpg ..\\data\\DFJAeAUxF62\\2025-01-22_20-08-56_UTC_3.jpg ..\\data\\DFJAeAUxF62\\2025-01-22_20-08-56_UTC_4.jpg ..\\data\\DFJAeAUxF62\\2025-01-22_20-08-56_UTC_5.jpg ..\\data\\DFJAeAUxF62\\2025-01-22_20-08-56_UTC_6.jpg ..\\data\\DFJAeAUxF62\\2025-01-22_20-08-56_UTC_7.jpg ..\\data\\DFJAeAUxF62\\2025-01-22_20-08-56_UTC_8.jpg ..\\data\\DFJAeAUxF62\\2025-01-22_20-08-56_UTC_9.jpg ..\\data\\DFJAeAUxF62\\2025-01-22_20-08-56_UTC_10.jpg [Follow us for more detailed J…] json \n",
      "Downloaded 58/114\n"
     ]
    },
    {
     "name": "stderr",
     "output_type": "stream",
     "text": [
      "JSON Query to graphql/query: 403 Forbidden when accessing https://www.instagram.com/graphql/query [retrying; skip with ^C]\n"
     ]
    },
    {
     "name": "stdout",
     "output_type": "stream",
     "text": [
      "..\\data\\DFKPpTmvn8i\\2025-01-23_07-43-25_UTC.jpg [BEST BAKERY TOKYO 🇯🇵 (?)  Ama…] ..\\data\\DFKPpTmvn8i\\2025-01-23_07-43-25_UTC.mp4 json \n",
      "Downloaded 59/114\n"
     ]
    },
    {
     "name": "stderr",
     "output_type": "stream",
     "text": [
      "JSON Query to graphql/query: 403 Forbidden when accessing https://www.instagram.com/graphql/query [retrying; skip with ^C]\n"
     ]
    },
    {
     "name": "stdout",
     "output_type": "stream",
     "text": [
      "..\\data\\DFKYXlav2KQ\\2025-01-23_09-00-38_UTC.jpg [Here are 5 secret spots in To…] ..\\data\\DFKYXlav2KQ\\2025-01-23_09-00-38_UTC.mp4 json \n",
      "Downloaded 60/114\n"
     ]
    },
    {
     "name": "stderr",
     "output_type": "stream",
     "text": [
      "JSON Query to graphql/query: 403 Forbidden when accessing https://www.instagram.com/graphql/query [retrying; skip with ^C]\n"
     ]
    },
    {
     "name": "stdout",
     "output_type": "stream",
     "text": [
      "..\\data\\DFKflNSTZm6\\2025-01-23_10-00-00_UTC.jpg [This place is not Kyoto🇯🇵  If…] ..\\data\\DFKflNSTZm6\\2025-01-23_10-00-00_UTC.mp4 json \n",
      "Downloaded 61/114\n"
     ]
    },
    {
     "name": "stderr",
     "output_type": "stream",
     "text": [
      "JSON Query to graphql/query: 403 Forbidden when accessing https://www.instagram.com/graphql/query [retrying; skip with ^C]\n"
     ]
    },
    {
     "name": "stdout",
     "output_type": "stream",
     "text": [
      "..\\data\\DFPixtTzNsy\\2025-01-25_09-04-09_UTC_1.jpg ..\\data\\DFPixtTzNsy\\2025-01-25_09-04-09_UTC_2.jpg ..\\data\\DFPixtTzNsy\\2025-01-25_09-04-09_UTC_3.jpg ..\\data\\DFPixtTzNsy\\2025-01-25_09-04-09_UTC_4.jpg ..\\data\\DFPixtTzNsy\\2025-01-25_09-04-09_UTC_5.jpg ..\\data\\DFPixtTzNsy\\2025-01-25_09-04-09_UTC_6.jpg ..\\data\\DFPixtTzNsy\\2025-01-25_09-04-09_UTC_7.jpg [The websites I use often on m…] json \n",
      "Downloaded 62/114\n"
     ]
    },
    {
     "name": "stderr",
     "output_type": "stream",
     "text": [
      "JSON Query to graphql/query: 403 Forbidden when accessing https://www.instagram.com/graphql/query [retrying; skip with ^C]\n"
     ]
    },
    {
     "name": "stdout",
     "output_type": "stream",
     "text": [
      "..\\data\\DFSjxrrvJY-\\2025-01-26_13-12-52_UTC.jpg [If you have any concerns or q…] ..\\data\\DFSjxrrvJY-\\2025-01-26_13-12-52_UTC.mp4 json \n",
      "Downloaded 63/114\n"
     ]
    },
    {
     "name": "stderr",
     "output_type": "stream",
     "text": [
      "JSON Query to graphql/query: 403 Forbidden when accessing https://www.instagram.com/graphql/query [retrying; skip with ^C]\n"
     ]
    },
    {
     "name": "stdout",
     "output_type": "stream",
     "text": [
      "..\\data\\DFU28v0ylAc\\2025-01-27_10-38-16_UTC.jpg [These 3 things are CHEAPER in…] ..\\data\\DFU28v0ylAc\\2025-01-27_10-38-16_UTC.mp4 json \n",
      "Downloaded 64/114\n"
     ]
    },
    {
     "name": "stderr",
     "output_type": "stream",
     "text": [
      "JSON Query to graphql/query: 403 Forbidden when accessing https://www.instagram.com/graphql/query [retrying; skip with ^C]\n"
     ]
    },
    {
     "name": "stdout",
     "output_type": "stream",
     "text": [
      "..\\data\\DFUzpOVTuTq\\2025-01-27_10-07-45_UTC_1.jpg ..\\data\\DFUzpOVTuTq\\2025-01-27_10-07-45_UTC_2.jpg ..\\data\\DFUzpOVTuTq\\2025-01-27_10-07-45_UTC_3.jpg ..\\data\\DFUzpOVTuTq\\2025-01-27_10-07-45_UTC_4.jpg ..\\data\\DFUzpOVTuTq\\2025-01-27_10-07-45_UTC_5.jpg ..\\data\\DFUzpOVTuTq\\2025-01-27_10-07-45_UTC_6.jpg ..\\data\\DFUzpOVTuTq\\2025-01-27_10-07-45_UTC_7.jpg ..\\data\\DFUzpOVTuTq\\2025-01-27_10-07-45_UTC_8.jpg ..\\data\\DFUzpOVTuTq\\2025-01-27_10-07-45_UTC_9.jpg ..\\data\\DFUzpOVTuTq\\2025-01-27_10-07-45_UTC_10.jpg ..\\data\\DFUzpOVTuTq\\2025-01-27_10-07-45_UTC_11.jpg ..\\data\\DFUzpOVTuTq\\2025-01-27_10-07-45_UTC_12.jpg [Visiting Tokyo soon? Check ou…] json \n",
      "Downloaded 65/114\n"
     ]
    },
    {
     "name": "stderr",
     "output_type": "stream",
     "text": [
      "JSON Query to graphql/query: 403 Forbidden when accessing https://www.instagram.com/graphql/query [retrying; skip with ^C]\n"
     ]
    },
    {
     "name": "stdout",
     "output_type": "stream",
     "text": [
      "..\\data\\DFY-fmwy87w\\2025-01-29_01-01-11_UTC.jpg [Comment “Beams” for a Google …] ..\\data\\DFY-fmwy87w\\2025-01-29_01-01-11_UTC.mp4 json \n",
      "Downloaded 66/114\n"
     ]
    },
    {
     "name": "stderr",
     "output_type": "stream",
     "text": [
      "JSON Query to graphql/query: 403 Forbidden when accessing https://www.instagram.com/graphql/query [retrying; skip with ^C]\n"
     ]
    },
    {
     "name": "stdout",
     "output_type": "stream",
     "text": [
      "..\\data\\DFZHp6LPSPu\\2025-01-29_02-28-30_UTC.jpg [Why are kids not allowed? It …] ..\\data\\DFZHp6LPSPu\\2025-01-29_02-28-30_UTC.mp4 json \n",
      "Downloaded 67/114\n"
     ]
    },
    {
     "name": "stderr",
     "output_type": "stream",
     "text": [
      "JSON Query to graphql/query: 403 Forbidden when accessing https://www.instagram.com/graphql/query [retrying; skip with ^C]\n"
     ]
    },
    {
     "name": "stdout",
     "output_type": "stream",
     "text": [
      "..\\data\\DFc-Whbv5hx\\2025-01-30_14-17-24_UTC.jpg [6 Must Visit Restaurants in T…] ..\\data\\DFc-Whbv5hx\\2025-01-30_14-17-24_UTC.mp4 json \n",
      "Downloaded 68/114\n"
     ]
    },
    {
     "name": "stderr",
     "output_type": "stream",
     "text": [
      "JSON Query to graphql/query: 403 Forbidden when accessing https://www.instagram.com/graphql/query [retrying; skip with ^C]\n"
     ]
    },
    {
     "name": "stdout",
     "output_type": "stream",
     "text": [
      "..\\data\\DFetZlQSsAw\\2025-01-31_06-30-31_UTC.jpg [Use compression bag to get mo…] ..\\data\\DFetZlQSsAw\\2025-01-31_06-30-31_UTC.mp4 json \n",
      "Downloaded 69/114\n"
     ]
    },
    {
     "name": "stderr",
     "output_type": "stream",
     "text": [
      "JSON Query to graphql/query: 403 Forbidden when accessing https://www.instagram.com/graphql/query [retrying; skip with ^C]\n"
     ]
    },
    {
     "name": "stdout",
     "output_type": "stream",
     "text": [
      "..\\data\\DFew3LLt8ix\\2025-01-31_06-55-00_UTC_1.jpg ..\\data\\DFew3LLt8ix\\2025-01-31_06-55-00_UTC_2.jpg ..\\data\\DFew3LLt8ix\\2025-01-31_06-55-00_UTC_3.jpg ..\\data\\DFew3LLt8ix\\2025-01-31_06-55-00_UTC_4.jpg ..\\data\\DFew3LLt8ix\\2025-01-31_06-55-00_UTC_5.jpg ..\\data\\DFew3LLt8ix\\2025-01-31_06-55-00_UTC_6.jpg ..\\data\\DFew3LLt8ix\\2025-01-31_06-55-00_UTC_7.jpg ..\\data\\DFew3LLt8ix\\2025-01-31_06-55-00_UTC_8.jpg ..\\data\\DFew3LLt8ix\\2025-01-31_06-55-00_UTC_9.jpg ..\\data\\DFew3LLt8ix\\2025-01-31_06-55-00_UTC_10.jpg ..\\data\\DFew3LLt8ix\\2025-01-31_06-55-00_UTC_11.jpg ..\\data\\DFew3LLt8ix\\2025-01-31_06-55-00_UTC_12.jpg ..\\data\\DFew3LLt8ix\\2025-01-31_06-55-00_UTC_13.jpg ..\\data\\DFew3LLt8ix\\2025-01-31_06-55-00_UTC_14.jpg [[↓Español ↓] On this week’s 「…] json \n",
      "Downloaded 70/114\n"
     ]
    },
    {
     "name": "stderr",
     "output_type": "stream",
     "text": [
      "JSON Query to graphql/query: 403 Forbidden when accessing https://www.instagram.com/graphql/query [retrying; skip with ^C]\n"
     ]
    },
    {
     "name": "stdout",
     "output_type": "stream",
     "text": [
      "..\\data\\DFexN7YS3DD\\2025-01-31_06-58-57_UTC_1.jpg ..\\data\\DFexN7YS3DD\\2025-01-31_06-58-57_UTC_2.jpg ..\\data\\DFexN7YS3DD\\2025-01-31_06-58-57_UTC_3.jpg ..\\data\\DFexN7YS3DD\\2025-01-31_06-58-57_UTC_4.jpg ..\\data\\DFexN7YS3DD\\2025-01-31_06-58-57_UTC_5.jpg ..\\data\\DFexN7YS3DD\\2025-01-31_06-58-57_UTC_6.jpg ..\\data\\DFexN7YS3DD\\2025-01-31_06-58-57_UTC_7.jpg ..\\data\\DFexN7YS3DD\\2025-01-31_06-58-57_UTC_8.jpg ..\\data\\DFexN7YS3DD\\2025-01-31_06-58-57_UTC_9.jpg ..\\data\\DFexN7YS3DD\\2025-01-31_06-58-57_UTC_10.jpg ..\\data\\DFexN7YS3DD\\2025-01-31_06-58-57_UTC_11.jpg [Sorry 🥹  #tokyoweekender #kon…] json \n",
      "Downloaded 71/114\n"
     ]
    },
    {
     "name": "stderr",
     "output_type": "stream",
     "text": [
      "JSON Query to graphql/query: 403 Forbidden when accessing https://www.instagram.com/graphql/query [retrying; skip with ^C]\n"
     ]
    },
    {
     "name": "stdout",
     "output_type": "stream",
     "text": [
      "..\\data\\DFfhLfHTMGb\\2025-01-31_13-58-03_UTC_1.jpg ..\\data\\DFfhLfHTMGb\\2025-01-31_13-58-03_UTC_2.jpg ..\\data\\DFfhLfHTMGb\\2025-01-31_13-58-03_UTC_3.jpg ..\\data\\DFfhLfHTMGb\\2025-01-31_13-58-03_UTC_4.jpg ..\\data\\DFfhLfHTMGb\\2025-01-31_13-58-03_UTC_5.jpg ..\\data\\DFfhLfHTMGb\\2025-01-31_13-58-03_UTC_6.jpg ..\\data\\DFfhLfHTMGb\\2025-01-31_13-58-03_UTC_7.jpg ..\\data\\DFfhLfHTMGb\\2025-01-31_13-58-03_UTC_8.jpg [Japan wifi autoconnect came i…] json \n",
      "Downloaded 72/114\n"
     ]
    },
    {
     "name": "stderr",
     "output_type": "stream",
     "text": [
      "JSON Query to graphql/query: 403 Forbidden when accessing https://www.instagram.com/graphql/query [retrying; skip with ^C]\n"
     ]
    },
    {
     "name": "stdout",
     "output_type": "stream",
     "text": [
      "..\\data\\DFmm1qOvqRA\\2025-02-03_08-02-11_UTC_1.jpg ..\\data\\DFmm1qOvqRA\\2025-02-03_08-02-11_UTC_2.jpg ..\\data\\DFmm1qOvqRA\\2025-02-03_08-02-11_UTC_2.mp4 ..\\data\\DFmm1qOvqRA\\2025-02-03_08-02-11_UTC_3.jpg ..\\data\\DFmm1qOvqRA\\2025-02-03_08-02-11_UTC_3.mp4 ..\\data\\DFmm1qOvqRA\\2025-02-03_08-02-11_UTC_4.jpg ..\\data\\DFmm1qOvqRA\\2025-02-03_08-02-11_UTC_4.mp4 ..\\data\\DFmm1qOvqRA\\2025-02-03_08-02-11_UTC_5.jpg ..\\data\\DFmm1qOvqRA\\2025-02-03_08-02-11_UTC_5.mp4 ..\\data\\DFmm1qOvqRA\\2025-02-03_08-02-11_UTC_6.jpg ..\\data\\DFmm1qOvqRA\\2025-02-03_08-02-11_UTC_6.mp4 ..\\data\\DFmm1qOvqRA\\2025-02-03_08-02-11_UTC_7.jpg ..\\data\\DFmm1qOvqRA\\2025-02-03_08-02-11_UTC_7.mp4 [Here are must visit flagship …] json \n",
      "Downloaded 73/114\n"
     ]
    },
    {
     "name": "stderr",
     "output_type": "stream",
     "text": [
      "JSON Query to graphql/query: 403 Forbidden when accessing https://www.instagram.com/graphql/query [retrying; skip with ^C]\n"
     ]
    },
    {
     "name": "stdout",
     "output_type": "stream",
     "text": [
      "..\\data\\DFn1V5Jxsnd\\2025-02-03_19-30-02_UTC.jpg [it’s even better than I remem…] ..\\data\\DFn1V5Jxsnd\\2025-02-03_19-30-02_UTC.mp4 json \n",
      "Downloaded 74/114\n"
     ]
    },
    {
     "name": "stderr",
     "output_type": "stream",
     "text": [
      "JSON Query to graphql/query: 403 Forbidden when accessing https://www.instagram.com/graphql/query [retrying; skip with ^C]\n"
     ]
    },
    {
     "name": "stdout",
     "output_type": "stream",
     "text": [
      "..\\data\\DFnNm6ySmpv\\2025-02-03_13-41-49_UTC.jpg [If you need anything on your …] ..\\data\\DFnNm6ySmpv\\2025-02-03_13-41-49_UTC.mp4 json \n",
      "Downloaded 75/114\n"
     ]
    },
    {
     "name": "stderr",
     "output_type": "stream",
     "text": [
      "JSON Query to graphql/query: 403 Forbidden when accessing https://www.instagram.com/graphql/query [retrying; skip with ^C]\n"
     ]
    },
    {
     "name": "stdout",
     "output_type": "stream",
     "text": [
      "..\\data\\DFp7nsXzct8\\2025-02-04_15-01-30_UTC_1.jpg ..\\data\\DFp7nsXzct8\\2025-02-04_15-01-30_UTC_2.jpg ..\\data\\DFp7nsXzct8\\2025-02-04_15-01-30_UTC_3.jpg ..\\data\\DFp7nsXzct8\\2025-02-04_15-01-30_UTC_4.jpg ..\\data\\DFp7nsXzct8\\2025-02-04_15-01-30_UTC_5.jpg ..\\data\\DFp7nsXzct8\\2025-02-04_15-01-30_UTC_6.jpg ..\\data\\DFp7nsXzct8\\2025-02-04_15-01-30_UTC_7.jpg ..\\data\\DFp7nsXzct8\\2025-02-04_15-01-30_UTC_8.jpg [All female friendly too 🫶 #ja…] json \n",
      "Downloaded 76/114\n"
     ]
    },
    {
     "name": "stderr",
     "output_type": "stream",
     "text": [
      "JSON Query to graphql/query: 403 Forbidden when accessing https://www.instagram.com/graphql/query [retrying; skip with ^C]\n"
     ]
    },
    {
     "name": "stdout",
     "output_type": "stream",
     "text": [
      "..\\data\\DFsdvcuz3Ke\\2025-02-05_14-38-08_UTC_1.jpg ..\\data\\DFsdvcuz3Ke\\2025-02-05_14-38-08_UTC_2.jpg ..\\data\\DFsdvcuz3Ke\\2025-02-05_14-38-08_UTC_3.jpg ..\\data\\DFsdvcuz3Ke\\2025-02-05_14-38-08_UTC_4.jpg ..\\data\\DFsdvcuz3Ke\\2025-02-05_14-38-08_UTC_5.jpg ..\\data\\DFsdvcuz3Ke\\2025-02-05_14-38-08_UTC_6.jpg ..\\data\\DFsdvcuz3Ke\\2025-02-05_14-38-08_UTC_7.jpg ..\\data\\DFsdvcuz3Ke\\2025-02-05_14-38-08_UTC_8.jpg ..\\data\\DFsdvcuz3Ke\\2025-02-05_14-38-08_UTC_9.jpg [Make the most of your haul 🍡 …] json \n",
      "Downloaded 77/114\n"
     ]
    },
    {
     "name": "stderr",
     "output_type": "stream",
     "text": [
      "JSON Query to graphql/query: 403 Forbidden when accessing https://www.instagram.com/graphql/query [retrying; skip with ^C]\n"
     ]
    },
    {
     "name": "stdout",
     "output_type": "stream",
     "text": [
      "..\\data\\DFuevFvuwgY\\2025-02-06_09-25-59_UTC.jpg [A perfect day trip from Tokyo…] ..\\data\\DFuevFvuwgY\\2025-02-06_09-25-59_UTC.mp4 json \n",
      "Downloaded 78/114\n"
     ]
    },
    {
     "name": "stderr",
     "output_type": "stream",
     "text": [
      "JSON Query to graphql/query: 403 Forbidden when accessing https://www.instagram.com/graphql/query [retrying; skip with ^C]\n"
     ]
    },
    {
     "name": "stdout",
     "output_type": "stream",
     "text": [
      "..\\data\\DFuxEtCz0DR\\2025-02-06_12-11-51_UTC.jpg [If you’re unfamiliar with ons…] ..\\data\\DFuxEtCz0DR\\2025-02-06_12-11-51_UTC.mp4 json \n",
      "Downloaded 79/114\n"
     ]
    },
    {
     "name": "stderr",
     "output_type": "stream",
     "text": [
      "JSON Query to graphql/query: 403 Forbidden when accessing https://www.instagram.com/graphql/query [retrying; skip with ^C]\n"
     ]
    },
    {
     "name": "stdout",
     "output_type": "stream",
     "text": [
      "..\\data\\DFxAq2fT2sd\\2025-02-07_09-00-00_UTC.jpg [Follow @exploretokyodomecity …] ..\\data\\DFxAq2fT2sd\\2025-02-07_09-00-00_UTC.mp4 json \n",
      "Downloaded 80/114\n"
     ]
    },
    {
     "name": "stderr",
     "output_type": "stream",
     "text": [
      "JSON Query to graphql/query: 403 Forbidden when accessing https://www.instagram.com/graphql/query [retrying; skip with ^C]\n"
     ]
    },
    {
     "name": "stdout",
     "output_type": "stream",
     "text": [
      "..\\data\\DFzxyrmzQw7\\2025-02-08_10-48-01_UTC_1.jpg ..\\data\\DFzxyrmzQw7\\2025-02-08_10-48-01_UTC_2.jpg ..\\data\\DFzxyrmzQw7\\2025-02-08_10-48-01_UTC_3.jpg ..\\data\\DFzxyrmzQw7\\2025-02-08_10-48-01_UTC_4.jpg ..\\data\\DFzxyrmzQw7\\2025-02-08_10-48-01_UTC_5.jpg ..\\data\\DFzxyrmzQw7\\2025-02-08_10-48-01_UTC_6.jpg ..\\data\\DFzxyrmzQw7\\2025-02-08_10-48-01_UTC_7.jpg ..\\data\\DFzxyrmzQw7\\2025-02-08_10-48-01_UTC_8.jpg ..\\data\\DFzxyrmzQw7\\2025-02-08_10-48-01_UTC_9.jpg [Is ichiran overrated? Depends…] json \n",
      "Downloaded 81/114\n"
     ]
    },
    {
     "name": "stderr",
     "output_type": "stream",
     "text": [
      "JSON Query to graphql/query: 403 Forbidden when accessing https://www.instagram.com/graphql/query [retrying; skip with ^C]\n"
     ]
    },
    {
     "name": "stdout",
     "output_type": "stream",
     "text": [
      "..\\data\\DG--x9VTZm1\\2025-03-09_15-45-11_UTC.jpg [📌 Save this post to avoid tou…] ..\\data\\DG--x9VTZm1\\2025-03-09_15-45-11_UTC.mp4 json \n",
      "Downloaded 82/114\n"
     ]
    },
    {
     "name": "stderr",
     "output_type": "stream",
     "text": [
      "JSON Query to graphql/query: 403 Forbidden when accessing https://www.instagram.com/graphql/query [retrying; skip with ^C]\n"
     ]
    },
    {
     "name": "stdout",
     "output_type": "stream",
     "text": [
      "..\\data\\DG0_F07STpA\\2025-03-05_18-34-52_UTC_1.jpg ..\\data\\DG0_F07STpA\\2025-03-05_18-34-52_UTC_2.jpg ..\\data\\DG0_F07STpA\\2025-03-05_18-34-52_UTC_3.jpg ..\\data\\DG0_F07STpA\\2025-03-05_18-34-52_UTC_4.jpg [In Tokyo, a pop-up shop calle…] json \n",
      "Downloaded 83/114\n"
     ]
    },
    {
     "name": "stderr",
     "output_type": "stream",
     "text": [
      "JSON Query to graphql/query: 403 Forbidden when accessing https://www.instagram.com/graphql/query [retrying; skip with ^C]\n"
     ]
    },
    {
     "name": "stdout",
     "output_type": "stream",
     "text": [
      "..\\data\\DG24hGVTGEp\\2025-03-06_12-15-54_UTC_1.jpg ..\\data\\DG24hGVTGEp\\2025-03-06_12-15-54_UTC_2.jpg ..\\data\\DG24hGVTGEp\\2025-03-06_12-15-54_UTC_3.jpg ..\\data\\DG24hGVTGEp\\2025-03-06_12-15-54_UTC_4.jpg ..\\data\\DG24hGVTGEp\\2025-03-06_12-15-54_UTC_5.jpg ..\\data\\DG24hGVTGEp\\2025-03-06_12-15-54_UTC_6.jpg ..\\data\\DG24hGVTGEp\\2025-03-06_12-15-54_UTC_7.jpg ..\\data\\DG24hGVTGEp\\2025-03-06_12-15-54_UTC_8.jpg [You never end up wanting to l…] json \n",
      "Downloaded 84/114\n"
     ]
    },
    {
     "name": "stderr",
     "output_type": "stream",
     "text": [
      "JSON Query to graphql/query: 403 Forbidden when accessing https://www.instagram.com/graphql/query [retrying; skip with ^C]\n"
     ]
    },
    {
     "name": "stdout",
     "output_type": "stream",
     "text": [
      "..\\data\\DG3D5fvzH_e\\2025-03-06_14-03-35_UTC.jpg [🚆 Welcome Suica App is Now Av…] ..\\data\\DG3D5fvzH_e\\2025-03-06_14-03-35_UTC.mp4 json \n",
      "Downloaded 85/114\n"
     ]
    },
    {
     "name": "stderr",
     "output_type": "stream",
     "text": [
      "JSON Query to graphql/query: 403 Forbidden when accessing https://www.instagram.com/graphql/query [retrying; skip with ^C]\n"
     ]
    },
    {
     "name": "stdout",
     "output_type": "stream",
     "text": [
      "..\\data\\DGGC6eYOPD-\\2025-02-15_13-04-29_UTC.jpg [For reference JUST this sandw…] ..\\data\\DGGC6eYOPD-\\2025-02-15_13-04-29_UTC.mp4 json \n",
      "Downloaded 86/114\n"
     ]
    },
    {
     "name": "stderr",
     "output_type": "stream",
     "text": [
      "JSON Query to graphql/query: 403 Forbidden when accessing https://www.instagram.com/graphql/query [retrying; skip with ^C]\n"
     ]
    },
    {
     "name": "stdout",
     "output_type": "stream",
     "text": [
      "..\\data\\DGNh5MozYDQ\\2025-02-18_10-49-21_UTC_1.jpg ..\\data\\DGNh5MozYDQ\\2025-02-18_10-49-21_UTC_2.jpg ..\\data\\DGNh5MozYDQ\\2025-02-18_10-49-21_UTC_3.jpg ..\\data\\DGNh5MozYDQ\\2025-02-18_10-49-21_UTC_4.jpg ..\\data\\DGNh5MozYDQ\\2025-02-18_10-49-21_UTC_5.jpg ..\\data\\DGNh5MozYDQ\\2025-02-18_10-49-21_UTC_6.jpg ..\\data\\DGNh5MozYDQ\\2025-02-18_10-49-21_UTC_7.jpg ..\\data\\DGNh5MozYDQ\\2025-02-18_10-49-21_UTC_8.jpg ..\\data\\DGNh5MozYDQ\\2025-02-18_10-49-21_UTC_9.jpg [For the first timers 🫶 #japan…] json \n",
      "Downloaded 87/114\n"
     ]
    },
    {
     "name": "stderr",
     "output_type": "stream",
     "text": [
      "JSON Query to graphql/query: 403 Forbidden when accessing https://www.instagram.com/graphql/query [retrying; skip with ^C]\n"
     ]
    },
    {
     "name": "stdout",
     "output_type": "stream",
     "text": [
      "..\\data\\DGQT-m1iqLQ\\2025-02-19_12-45-29_UTC_1.jpg ..\\data\\DGQT-m1iqLQ\\2025-02-19_12-45-29_UTC_2.jpg ..\\data\\DGQT-m1iqLQ\\2025-02-19_12-45-29_UTC_3.jpg ..\\data\\DGQT-m1iqLQ\\2025-02-19_12-45-29_UTC_4.jpg ..\\data\\DGQT-m1iqLQ\\2025-02-19_12-45-29_UTC_5.jpg ..\\data\\DGQT-m1iqLQ\\2025-02-19_12-45-29_UTC_6.jpg ..\\data\\DGQT-m1iqLQ\\2025-02-19_12-45-29_UTC_7.jpg ..\\data\\DGQT-m1iqLQ\\2025-02-19_12-45-29_UTC_8.jpg ..\\data\\DGQT-m1iqLQ\\2025-02-19_12-45-29_UTC_9.jpg ..\\data\\DGQT-m1iqLQ\\2025-02-19_12-45-29_UTC_10.jpg [10 incredible places in Tokyo…] json \n",
      "Downloaded 88/114\n"
     ]
    },
    {
     "name": "stderr",
     "output_type": "stream",
     "text": [
      "JSON Query to graphql/query: 403 Forbidden when accessing https://www.instagram.com/graphql/query [retrying; skip with ^C]\n"
     ]
    },
    {
     "name": "stdout",
     "output_type": "stream",
     "text": [
      "..\\data\\DGX1ObPTl0M\\2025-02-22_10-50-45_UTC_1.jpg ..\\data\\DGX1ObPTl0M\\2025-02-22_10-50-45_UTC_2.jpg ..\\data\\DGX1ObPTl0M\\2025-02-22_10-50-45_UTC_3.jpg ..\\data\\DGX1ObPTl0M\\2025-02-22_10-50-45_UTC_4.jpg ..\\data\\DGX1ObPTl0M\\2025-02-22_10-50-45_UTC_5.jpg ..\\data\\DGX1ObPTl0M\\2025-02-22_10-50-45_UTC_6.jpg [An iconic feature of inari sh…] json \n",
      "Downloaded 89/114\n"
     ]
    },
    {
     "name": "stderr",
     "output_type": "stream",
     "text": [
      "JSON Query to graphql/query: 403 Forbidden when accessing https://www.instagram.com/graphql/query [retrying; skip with ^C]\n"
     ]
    },
    {
     "name": "stdout",
     "output_type": "stream",
     "text": [
      "..\\data\\DGiXDIyyiRp\\2025-02-26_12-59-55_UTC.jpg [Ginza is more than just high-…] ..\\data\\DGiXDIyyiRp\\2025-02-26_12-59-55_UTC.mp4 json \n",
      "Downloaded 90/114\n"
     ]
    },
    {
     "name": "stderr",
     "output_type": "stream",
     "text": [
      "JSON Query to graphql/query: 403 Forbidden when accessing https://www.instagram.com/graphql/query [retrying; skip with ^C]\n"
     ]
    },
    {
     "name": "stdout",
     "output_type": "stream",
     "text": [
      "..\\data\\DGnPoToTIoJ\\2025-02-28_10-30-01_UTC_1.jpg ..\\data\\DGnPoToTIoJ\\2025-02-28_10-30-01_UTC_2.jpg ..\\data\\DGnPoToTIoJ\\2025-02-28_10-30-01_UTC_3.jpg ..\\data\\DGnPoToTIoJ\\2025-02-28_10-30-01_UTC_4.jpg ..\\data\\DGnPoToTIoJ\\2025-02-28_10-30-01_UTC_5.jpg [Been sick the past few days 🤒…] json \n",
      "Downloaded 91/114\n"
     ]
    },
    {
     "name": "stderr",
     "output_type": "stream",
     "text": [
      "JSON Query to graphql/query: 403 Forbidden when accessing https://www.instagram.com/graphql/query [retrying; skip with ^C]\n"
     ]
    },
    {
     "name": "stdout",
     "output_type": "stream",
     "text": [
      "..\\data\\DGt1885T3TF\\2025-03-03_00-00-22_UTC_1.jpg ..\\data\\DGt1885T3TF\\2025-03-03_00-00-22_UTC_2.jpg ..\\data\\DGt1885T3TF\\2025-03-03_00-00-22_UTC_3.jpg ..\\data\\DGt1885T3TF\\2025-03-03_00-00-22_UTC_4.jpg ..\\data\\DGt1885T3TF\\2025-03-03_00-00-22_UTC_5.jpg ..\\data\\DGt1885T3TF\\2025-03-03_00-00-22_UTC_6.jpg ..\\data\\DGt1885T3TF\\2025-03-03_00-00-22_UTC_7.jpg ..\\data\\DGt1885T3TF\\2025-03-03_00-00-22_UTC_8.jpg [From ones in temples to those…] json \n",
      "Downloaded 92/114\n"
     ]
    },
    {
     "name": "stderr",
     "output_type": "stream",
     "text": [
      "JSON Query to graphql/query: 403 Forbidden when accessing https://www.instagram.com/graphql/query [retrying; skip with ^C]\n"
     ]
    },
    {
     "name": "stdout",
     "output_type": "stream",
     "text": [
      "..\\data\\DGuwVzkya6L\\2025-03-03_08-30-00_UTC_1.jpg ..\\data\\DGuwVzkya6L\\2025-03-03_08-30-00_UTC_2.jpg ..\\data\\DGuwVzkya6L\\2025-03-03_08-30-00_UTC_3.jpg ..\\data\\DGuwVzkya6L\\2025-03-03_08-30-00_UTC_4.jpg ..\\data\\DGuwVzkya6L\\2025-03-03_08-30-00_UTC_5.jpg ..\\data\\DGuwVzkya6L\\2025-03-03_08-30-00_UTC_6.jpg ..\\data\\DGuwVzkya6L\\2025-03-03_08-30-00_UTC_7.jpg ..\\data\\DGuwVzkya6L\\2025-03-03_08-30-00_UTC_8.jpg ..\\data\\DGuwVzkya6L\\2025-03-03_08-30-00_UTC_9.jpg ..\\data\\DGuwVzkya6L\\2025-03-03_08-30-00_UTC_10.jpg [Tiara [@tyrnbl] is a graphic …] json \n",
      "Downloaded 93/114\n"
     ]
    },
    {
     "name": "stderr",
     "output_type": "stream",
     "text": [
      "JSON Query to graphql/query: 403 Forbidden when accessing https://www.instagram.com/graphql/query [retrying; skip with ^C]\n"
     ]
    },
    {
     "name": "stdout",
     "output_type": "stream",
     "text": [
      "..\\data\\DH2URjwvXtM\\2025-03-31_03-31-00_UTC.jpg [🍬🍻 Unlimited Japanese sweets,…] ..\\data\\DH2URjwvXtM\\2025-03-31_03-31-00_UTC.mp4 json \n",
      "Downloaded 94/114\n"
     ]
    },
    {
     "name": "stderr",
     "output_type": "stream",
     "text": [
      "JSON Query to graphql/query: 403 Forbidden when accessing https://www.instagram.com/graphql/query [retrying; skip with ^C]\n"
     ]
    },
    {
     "name": "stdout",
     "output_type": "stream",
     "text": [
      "..\\data\\DH3J95uTJM5\\2025-03-31_11-19-47_UTC_1.jpg ..\\data\\DH3J95uTJM5\\2025-03-31_11-19-47_UTC_2.jpg ..\\data\\DH3J95uTJM5\\2025-03-31_11-19-47_UTC_3.jpg ..\\data\\DH3J95uTJM5\\2025-03-31_11-19-47_UTC_4.jpg ..\\data\\DH3J95uTJM5\\2025-03-31_11-19-47_UTC_5.jpg ..\\data\\DH3J95uTJM5\\2025-03-31_11-19-47_UTC_6.jpg [4 things to do for tokyo firs…] json \n",
      "Downloaded 95/114\n"
     ]
    },
    {
     "name": "stderr",
     "output_type": "stream",
     "text": [
      "JSON Query to graphql/query: 403 Forbidden when accessing https://www.instagram.com/graphql/query [retrying; skip with ^C]\n"
     ]
    },
    {
     "name": "stdout",
     "output_type": "stream",
     "text": [
      "..\\data\\DH5lsqwTefL\\2025-04-01_10-00-00_UTC.jpg [Carrying a suitcase while exp…] ..\\data\\DH5lsqwTefL\\2025-04-01_10-00-00_UTC.mp4 json \n",
      "Downloaded 96/114\n"
     ]
    },
    {
     "name": "stderr",
     "output_type": "stream",
     "text": [
      "JSON Query to graphql/query: 403 Forbidden when accessing https://www.instagram.com/graphql/query [retrying; skip with ^C]\n"
     ]
    },
    {
     "name": "stdout",
     "output_type": "stream",
     "text": [
      "..\\data\\DHD0XcJSVPV\\2025-03-11_12-50-21_UTC.jpg [Interested in exploring uniqu…] ..\\data\\DHD0XcJSVPV\\2025-03-11_12-50-21_UTC.mp4 json \n",
      "Downloaded 97/114\n"
     ]
    },
    {
     "name": "stderr",
     "output_type": "stream",
     "text": [
      "JSON Query to graphql/query: 403 Forbidden when accessing https://www.instagram.com/graphql/query [retrying; skip with ^C]\n"
     ]
    },
    {
     "name": "stdout",
     "output_type": "stream",
     "text": [
      "..\\data\\DHLV7mNzmO3\\2025-03-14_10-57-44_UTC_1.jpg ..\\data\\DHLV7mNzmO3\\2025-03-14_10-57-44_UTC_2.jpg ..\\data\\DHLV7mNzmO3\\2025-03-14_10-57-44_UTC_3.jpg ..\\data\\DHLV7mNzmO3\\2025-03-14_10-57-44_UTC_4.jpg ..\\data\\DHLV7mNzmO3\\2025-03-14_10-57-44_UTC_5.jpg ..\\data\\DHLV7mNzmO3\\2025-03-14_10-57-44_UTC_6.jpg ..\\data\\DHLV7mNzmO3\\2025-03-14_10-57-44_UTC_7.jpg ..\\data\\DHLV7mNzmO3\\2025-03-14_10-57-44_UTC_8.jpg ..\\data\\DHLV7mNzmO3\\2025-03-14_10-57-44_UTC_9.jpg [Shinjuku definitely altered m…] json \n",
      "Downloaded 98/114\n"
     ]
    },
    {
     "name": "stderr",
     "output_type": "stream",
     "text": [
      "JSON Query to graphql/query: 403 Forbidden when accessing https://www.instagram.com/graphql/query [retrying; skip with ^C]\n"
     ]
    },
    {
     "name": "stdout",
     "output_type": "stream",
     "text": [
      "..\\data\\DHLiVyxPJIM\\2025-03-14_12-46-51_UTC.jpg [Do NOT come to KAMAKURA, if y…] ..\\data\\DHLiVyxPJIM\\2025-03-14_12-46-51_UTC.mp4 json \n",
      "Downloaded 99/114\n"
     ]
    },
    {
     "name": "stderr",
     "output_type": "stream",
     "text": [
      "JSON Query to graphql/query: 403 Forbidden when accessing https://www.instagram.com/graphql/query [retrying; skip with ^C]\n"
     ]
    },
    {
     "name": "stdout",
     "output_type": "stream",
     "text": [
      "..\\data\\DHYTvRATTSp\\2025-03-19_11-48-42_UTC_1.jpg ..\\data\\DHYTvRATTSp\\2025-03-19_11-48-42_UTC_2.jpg ..\\data\\DHYTvRATTSp\\2025-03-19_11-48-42_UTC_3.jpg ..\\data\\DHYTvRATTSp\\2025-03-19_11-48-42_UTC_4.jpg ..\\data\\DHYTvRATTSp\\2025-03-19_11-48-42_UTC_5.jpg ..\\data\\DHYTvRATTSp\\2025-03-19_11-48-42_UTC_6.jpg [Unique and popular things in …] json \n",
      "Downloaded 100/114\n",
      "\n",
      "Too many queries in the last time. Need to wait 95 seconds, until 21:22.\n"
     ]
    },
    {
     "name": "stderr",
     "output_type": "stream",
     "text": [
      "JSON Query to graphql/query: 403 Forbidden when accessing https://www.instagram.com/graphql/query [retrying; skip with ^C]\n"
     ]
    },
    {
     "name": "stdout",
     "output_type": "stream",
     "text": [
      "..\\data\\DHd4nJjBDGM\\2025-03-21_15-50-03_UTC.jpg [You MUST check out Tokyo's We…] ..\\data\\DHd4nJjBDGM\\2025-03-21_15-50-03_UTC.mp4 json \n",
      "Downloaded 101/114\n"
     ]
    },
    {
     "name": "stderr",
     "output_type": "stream",
     "text": [
      "JSON Query to graphql/query: 403 Forbidden when accessing https://www.instagram.com/graphql/query [retrying; skip with ^C]\n"
     ]
    },
    {
     "name": "stdout",
     "output_type": "stream",
     "text": [
      "..\\data\\DHisYpCP8ZS\\2025-03-23_12-36-28_UTC_1.jpg ..\\data\\DHisYpCP8ZS\\2025-03-23_12-36-28_UTC_2.jpg ..\\data\\DHisYpCP8ZS\\2025-03-23_12-36-28_UTC_3.jpg ..\\data\\DHisYpCP8ZS\\2025-03-23_12-36-28_UTC_4.jpg ..\\data\\DHisYpCP8ZS\\2025-03-23_12-36-28_UTC_5.jpg [Did we take advantage of the …] json \n",
      "Downloaded 102/114\n"
     ]
    },
    {
     "name": "stderr",
     "output_type": "stream",
     "text": [
      "JSON Query to graphql/query: 403 Forbidden when accessing https://www.instagram.com/graphql/query [retrying; skip with ^C]\n"
     ]
    },
    {
     "name": "stdout",
     "output_type": "stream",
     "text": [
      "..\\data\\DHlFz8SJmIS\\2025-03-24_10-58-21_UTC.jpg [죠죠포즈 싱크로율99999%] ..\\data\\DHlFz8SJmIS\\2025-03-24_10-58-21_UTC.mp4 json \n",
      "Downloaded 103/114\n"
     ]
    },
    {
     "name": "stderr",
     "output_type": "stream",
     "text": [
      "JSON Query to graphql/query: 403 Forbidden when accessing https://www.instagram.com/graphql/query [retrying; skip with ^C]\n"
     ]
    },
    {
     "name": "stdout",
     "output_type": "stream",
     "text": [
      "..\\data\\DHnkF0Rz0qr\\2025-03-25_10-00-00_UTC.jpg [🔭 Crossing View ＆ Rooftop Lou…] ..\\data\\DHnkF0Rz0qr\\2025-03-25_10-00-00_UTC.mp4 json \n",
      "Downloaded 104/114\n"
     ]
    },
    {
     "name": "stderr",
     "output_type": "stream",
     "text": [
      "JSON Query to graphql/query: 403 Forbidden when accessing https://www.instagram.com/graphql/query [retrying; skip with ^C]\n"
     ]
    },
    {
     "name": "stdout",
     "output_type": "stream",
     "text": [
      "..\\data\\DHoEs9qzysF\\2025-03-25_14-46-12_UTC.jpg [Skip the lines with these ACT…] ..\\data\\DHoEs9qzysF\\2025-03-25_14-46-12_UTC.mp4 json \n",
      "Downloaded 105/114\n"
     ]
    },
    {
     "name": "stderr",
     "output_type": "stream",
     "text": [
      "JSON Query to graphql/query: 403 Forbidden when accessing https://www.instagram.com/graphql/query [retrying; skip with ^C]\n"
     ]
    },
    {
     "name": "stdout",
     "output_type": "stream",
     "text": [
      "..\\data\\DHqKosGzDj0\\2025-03-26_10-15-30_UTC_1.jpg ..\\data\\DHqKosGzDj0\\2025-03-26_10-15-30_UTC_2.jpg ..\\data\\DHqKosGzDj0\\2025-03-26_10-15-30_UTC_3.jpg ..\\data\\DHqKosGzDj0\\2025-03-26_10-15-30_UTC_4.jpg ..\\data\\DHqKosGzDj0\\2025-03-26_10-15-30_UTC_5.jpg ..\\data\\DHqKosGzDj0\\2025-03-26_10-15-30_UTC_6.jpg ..\\data\\DHqKosGzDj0\\2025-03-26_10-15-30_UTC_7.jpg ..\\data\\DHqKosGzDj0\\2025-03-26_10-15-30_UTC_8.jpg ..\\data\\DHqKosGzDj0\\2025-03-26_10-15-30_UTC_9.jpg [Here are all of the things I …] json \n",
      "Downloaded 106/114\n"
     ]
    },
    {
     "name": "stderr",
     "output_type": "stream",
     "text": [
      "JSON Query to graphql/query: 403 Forbidden when accessing https://www.instagram.com/graphql/query [retrying; skip with ^C]\n"
     ]
    },
    {
     "name": "stdout",
     "output_type": "stream",
     "text": [
      "..\\data\\DHv6QuvT_le\\2025-03-28_15-51-46_UTC.jpg [Sharing some money saving tip…] ..\\data\\DHv6QuvT_le\\2025-03-28_15-51-46_UTC.mp4 json \n",
      "Downloaded 107/114\n"
     ]
    },
    {
     "name": "stderr",
     "output_type": "stream",
     "text": [
      "JSON Query to graphql/query: 403 Forbidden when accessing https://www.instagram.com/graphql/query [retrying; skip with ^C]\n"
     ]
    },
    {
     "name": "stdout",
     "output_type": "stream",
     "text": [
      "..\\data\\DHxOtZyxgdQ\\2025-03-29_04-16-11_UTC.jpg [save this for your Japan trip…] ..\\data\\DHxOtZyxgdQ\\2025-03-29_04-16-11_UTC.mp4 json \n",
      "Downloaded 108/114\n"
     ]
    },
    {
     "name": "stderr",
     "output_type": "stream",
     "text": [
      "JSON Query to graphql/query: 403 Forbidden when accessing https://www.instagram.com/graphql/query [retrying; skip with ^C]\n"
     ]
    },
    {
     "name": "stdout",
     "output_type": "stream",
     "text": [
      "..\\data\\DIBp_gbOmWK\\2025-04-04_13-13-14_UTC.jpg [Lizard is gone now BUT this i…] ..\\data\\DIBp_gbOmWK\\2025-04-04_13-13-14_UTC.mp4 json \n",
      "Downloaded 109/114\n"
     ]
    },
    {
     "name": "stderr",
     "output_type": "stream",
     "text": [
      "JSON Query to graphql/query: 403 Forbidden when accessing https://www.instagram.com/graphql/query [retrying; skip with ^C]\n"
     ]
    },
    {
     "name": "stdout",
     "output_type": "stream",
     "text": [
      "..\\data\\DIJjvr7JYFo\\2025-04-07_14-54-42_UTC.jpg [Osaka foodies, this one’s for…] ..\\data\\DIJjvr7JYFo\\2025-04-07_14-54-42_UTC.mp4 json \n",
      "Downloaded 110/114\n"
     ]
    },
    {
     "name": "stderr",
     "output_type": "stream",
     "text": [
      "JSON Query to graphql/query: 403 Forbidden when accessing https://www.instagram.com/graphql/query [retrying; skip with ^C]\n"
     ]
    },
    {
     "name": "stdout",
     "output_type": "stream",
     "text": [
      "..\\data\\DIME4SMzgLC\\2025-04-08_14-27-56_UTC.jpg [SAVE these shopping hacks in …] ..\\data\\DIME4SMzgLC\\2025-04-08_14-27-56_UTC.mp4 json \n",
      "Downloaded 111/114\n"
     ]
    },
    {
     "name": "stderr",
     "output_type": "stream",
     "text": [
      "JSON Query to graphql/query: 403 Forbidden when accessing https://www.instagram.com/graphql/query [retrying; skip with ^C]\n"
     ]
    },
    {
     "name": "stdout",
     "output_type": "stream",
     "text": [
      "..\\data\\DIYfQvjTX46\\2025-04-13_10-00-00_UTC.jpg [Don't leave Japan without the…] ..\\data\\DIYfQvjTX46\\2025-04-13_10-00-00_UTC.mp4 json \n",
      "Downloaded 112/114\n"
     ]
    },
    {
     "name": "stderr",
     "output_type": "stream",
     "text": [
      "JSON Query to graphql/query: 403 Forbidden when accessing https://www.instagram.com/graphql/query [retrying; skip with ^C]\n"
     ]
    },
    {
     "name": "stdout",
     "output_type": "stream",
     "text": [
      "..\\data\\DIi68Wyz4UA\\2025-04-17_11-15-05_UTC_1.jpg ..\\data\\DIi68Wyz4UA\\2025-04-17_11-15-05_UTC_2.jpg ..\\data\\DIi68Wyz4UA\\2025-04-17_11-15-05_UTC_3.jpg ..\\data\\DIi68Wyz4UA\\2025-04-17_11-15-05_UTC_4.jpg ..\\data\\DIi68Wyz4UA\\2025-04-17_11-15-05_UTC_5.jpg ..\\data\\DIi68Wyz4UA\\2025-04-17_11-15-05_UTC_6.jpg ..\\data\\DIi68Wyz4UA\\2025-04-17_11-15-05_UTC_7.jpg [Brands to know before your tr…] json \n",
      "Downloaded 113/114\n"
     ]
    },
    {
     "name": "stderr",
     "output_type": "stream",
     "text": [
      "JSON Query to graphql/query: 403 Forbidden when accessing https://www.instagram.com/graphql/query [retrying; skip with ^C]\n"
     ]
    },
    {
     "name": "stdout",
     "output_type": "stream",
     "text": [
      "..\\data\\DIkE06ezYMv\\2025-04-17_22-00-41_UTC_1.jpg ..\\data\\DIkE06ezYMv\\2025-04-17_22-00-41_UTC_2.jpg ..\\data\\DIkE06ezYMv\\2025-04-17_22-00-41_UTC_3.jpg ..\\data\\DIkE06ezYMv\\2025-04-17_22-00-41_UTC_4.jpg ..\\data\\DIkE06ezYMv\\2025-04-17_22-00-41_UTC_5.jpg ..\\data\\DIkE06ezYMv\\2025-04-17_22-00-41_UTC_6.jpg ..\\data\\DIkE06ezYMv\\2025-04-17_22-00-41_UTC_7.jpg ..\\data\\DIkE06ezYMv\\2025-04-17_22-00-41_UTC_8.jpg ..\\data\\DIkE06ezYMv\\2025-04-17_22-00-41_UTC_9.jpg ..\\data\\DIkE06ezYMv\\2025-04-17_22-00-41_UTC_10.jpg [slowly getting to the reviewi…] json \n",
      "Downloaded 114/114\n"
     ]
    }
   ],
   "source": [
    "with open(\"insta_links.txt\", \"r\") as f:\n",
    "    loaded_links = [line.strip() for line in f if line.strip()]\n",
    "\n",
    "i = 1\n",
    "\n",
    "for post_url in loaded_links:\n",
    "    shortcode = post_url.strip(\"/\").split(\"/\")[-1]\n",
    "\n",
    "    post = instaloader.Post.from_shortcode(L.context, shortcode)\n",
    "\n",
    "    target_path = os.path.join(os.pardir, \"data\", shortcode)\n",
    "    L.download_post(post, target=pathlib.Path(target_path))\n",
    "    print(f\"Downloaded {i}/{len(loaded_links)}\")\n",
    "    i += 1"
   ]
  }
 ],
 "metadata": {
  "kernelspec": {
   "display_name": "Python 3",
   "language": "python",
   "name": "python3"
  },
  "language_info": {
   "codemirror_mode": {
    "name": "ipython",
    "version": 3
   },
   "file_extension": ".py",
   "mimetype": "text/x-python",
   "name": "python",
   "nbconvert_exporter": "python",
   "pygments_lexer": "ipython3",
   "version": "3.12.2"
  }
 },
 "nbformat": 4,
 "nbformat_minor": 5
}
